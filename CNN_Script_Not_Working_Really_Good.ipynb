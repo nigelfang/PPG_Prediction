{
 "cells": [
  {
   "cell_type": "code",
   "execution_count": 1,
   "id": "f6fd9dd5",
   "metadata": {},
   "outputs": [
    {
     "name": "stdout",
     "output_type": "stream",
     "text": [
      "Requirement already satisfied: d2l==1.0.0a1.post0 in c:\\users\\rasimemirdagi\\anaconda3\\lib\\site-packages (1.0.0a1.post0)\n",
      "Requirement already satisfied: matplotlib-inline in c:\\users\\rasimemirdagi\\anaconda3\\lib\\site-packages (from d2l==1.0.0a1.post0) (0.1.2)\n",
      "Requirement already satisfied: matplotlib in c:\\users\\rasimemirdagi\\anaconda3\\lib\\site-packages (from d2l==1.0.0a1.post0) (3.4.3)\n",
      "Requirement already satisfied: gym in c:\\users\\rasimemirdagi\\anaconda3\\lib\\site-packages (from d2l==1.0.0a1.post0) (0.26.2)\n",
      "Requirement already satisfied: numpy in c:\\users\\rasimemirdagi\\anaconda3\\lib\\site-packages (from d2l==1.0.0a1.post0) (1.21.5)\n",
      "Requirement already satisfied: pandas in c:\\users\\rasimemirdagi\\anaconda3\\lib\\site-packages (from d2l==1.0.0a1.post0) (1.3.4)\n",
      "Requirement already satisfied: jupyter in c:\\users\\rasimemirdagi\\anaconda3\\lib\\site-packages (from d2l==1.0.0a1.post0) (1.0.0)\n",
      "Requirement already satisfied: requests in c:\\users\\rasimemirdagi\\anaconda3\\lib\\site-packages (from d2l==1.0.0a1.post0) (2.26.0)\n",
      "Requirement already satisfied: gym-notices>=0.0.4 in c:\\users\\rasimemirdagi\\anaconda3\\lib\\site-packages (from gym->d2l==1.0.0a1.post0) (0.0.8)\n",
      "Requirement already satisfied: cloudpickle>=1.2.0 in c:\\users\\rasimemirdagi\\anaconda3\\lib\\site-packages (from gym->d2l==1.0.0a1.post0) (2.0.0)\n",
      "Requirement already satisfied: importlib-metadata>=4.8.0 in c:\\users\\rasimemirdagi\\anaconda3\\lib\\site-packages (from gym->d2l==1.0.0a1.post0) (4.8.1)\n",
      "Requirement already satisfied: zipp>=0.5 in c:\\users\\rasimemirdagi\\anaconda3\\lib\\site-packages (from importlib-metadata>=4.8.0->gym->d2l==1.0.0a1.post0) (3.6.0)\n",
      "Requirement already satisfied: ipywidgets in c:\\users\\rasimemirdagi\\anaconda3\\lib\\site-packages (from jupyter->d2l==1.0.0a1.post0) (7.6.5)\n",
      "Requirement already satisfied: jupyter-console in c:\\users\\rasimemirdagi\\anaconda3\\lib\\site-packages (from jupyter->d2l==1.0.0a1.post0) (6.4.0)\n",
      "Requirement already satisfied: ipykernel in c:\\users\\rasimemirdagi\\anaconda3\\lib\\site-packages (from jupyter->d2l==1.0.0a1.post0) (6.4.1)\n",
      "Requirement already satisfied: notebook in c:\\users\\rasimemirdagi\\anaconda3\\lib\\site-packages (from jupyter->d2l==1.0.0a1.post0) (6.4.5)\n",
      "Requirement already satisfied: qtconsole in c:\\users\\rasimemirdagi\\anaconda3\\lib\\site-packages (from jupyter->d2l==1.0.0a1.post0) (5.1.1)\n",
      "Requirement already satisfied: nbconvert in c:\\users\\rasimemirdagi\\anaconda3\\lib\\site-packages (from jupyter->d2l==1.0.0a1.post0) (6.1.0)\n",
      "Requirement already satisfied: debugpy<2.0,>=1.0.0 in c:\\users\\rasimemirdagi\\anaconda3\\lib\\site-packages (from ipykernel->jupyter->d2l==1.0.0a1.post0) (1.4.1)\n",
      "Requirement already satisfied: traitlets<6.0,>=4.1.0 in c:\\users\\rasimemirdagi\\anaconda3\\lib\\site-packages (from ipykernel->jupyter->d2l==1.0.0a1.post0) (5.1.0)\n",
      "Requirement already satisfied: tornado<7.0,>=4.2 in c:\\users\\rasimemirdagi\\anaconda3\\lib\\site-packages (from ipykernel->jupyter->d2l==1.0.0a1.post0) (6.1)\n",
      "Requirement already satisfied: ipython-genutils in c:\\users\\rasimemirdagi\\anaconda3\\lib\\site-packages (from ipykernel->jupyter->d2l==1.0.0a1.post0) (0.2.0)\n",
      "Requirement already satisfied: jupyter-client<8.0 in c:\\users\\rasimemirdagi\\anaconda3\\lib\\site-packages (from ipykernel->jupyter->d2l==1.0.0a1.post0) (6.1.12)\n",
      "Requirement already satisfied: ipython<8.0,>=7.23.1 in c:\\users\\rasimemirdagi\\anaconda3\\lib\\site-packages (from ipykernel->jupyter->d2l==1.0.0a1.post0) (7.29.0)\n",
      "Requirement already satisfied: pygments in c:\\users\\rasimemirdagi\\anaconda3\\lib\\site-packages (from ipython<8.0,>=7.23.1->ipykernel->jupyter->d2l==1.0.0a1.post0) (2.10.0)\n",
      "Requirement already satisfied: backcall in c:\\users\\rasimemirdagi\\anaconda3\\lib\\site-packages (from ipython<8.0,>=7.23.1->ipykernel->jupyter->d2l==1.0.0a1.post0) (0.2.0)\n",
      "Requirement already satisfied: colorama in c:\\users\\rasimemirdagi\\anaconda3\\lib\\site-packages (from ipython<8.0,>=7.23.1->ipykernel->jupyter->d2l==1.0.0a1.post0) (0.4.4)\n",
      "Requirement already satisfied: prompt-toolkit!=3.0.0,!=3.0.1,<3.1.0,>=2.0.0 in c:\\users\\rasimemirdagi\\anaconda3\\lib\\site-packages (from ipython<8.0,>=7.23.1->ipykernel->jupyter->d2l==1.0.0a1.post0) (3.0.20)\n",
      "Requirement already satisfied: pickleshare in c:\\users\\rasimemirdagi\\anaconda3\\lib\\site-packages (from ipython<8.0,>=7.23.1->ipykernel->jupyter->d2l==1.0.0a1.post0) (0.7.5)\n",
      "Requirement already satisfied: setuptools>=18.5 in c:\\users\\rasimemirdagi\\anaconda3\\lib\\site-packages (from ipython<8.0,>=7.23.1->ipykernel->jupyter->d2l==1.0.0a1.post0) (58.0.4)\n",
      "Requirement already satisfied: decorator in c:\\users\\rasimemirdagi\\anaconda3\\lib\\site-packages (from ipython<8.0,>=7.23.1->ipykernel->jupyter->d2l==1.0.0a1.post0) (5.1.0)\n",
      "Requirement already satisfied: jedi>=0.16 in c:\\users\\rasimemirdagi\\anaconda3\\lib\\site-packages (from ipython<8.0,>=7.23.1->ipykernel->jupyter->d2l==1.0.0a1.post0) (0.18.0)\n",
      "Requirement already satisfied: parso<0.9.0,>=0.8.0 in c:\\users\\rasimemirdagi\\anaconda3\\lib\\site-packages (from jedi>=0.16->ipython<8.0,>=7.23.1->ipykernel->jupyter->d2l==1.0.0a1.post0) (0.8.2)\n",
      "Requirement already satisfied: pyzmq>=13 in c:\\users\\rasimemirdagi\\anaconda3\\lib\\site-packages (from jupyter-client<8.0->ipykernel->jupyter->d2l==1.0.0a1.post0) (22.2.1)\n",
      "Requirement already satisfied: jupyter-core>=4.6.0 in c:\\users\\rasimemirdagi\\anaconda3\\lib\\site-packages (from jupyter-client<8.0->ipykernel->jupyter->d2l==1.0.0a1.post0) (4.8.1)\n",
      "Requirement already satisfied: python-dateutil>=2.1 in c:\\users\\rasimemirdagi\\anaconda3\\lib\\site-packages (from jupyter-client<8.0->ipykernel->jupyter->d2l==1.0.0a1.post0) (2.8.2)\n",
      "Requirement already satisfied: pywin32>=1.0 in c:\\users\\rasimemirdagi\\anaconda3\\lib\\site-packages (from jupyter-core>=4.6.0->jupyter-client<8.0->ipykernel->jupyter->d2l==1.0.0a1.post0) (228)\n",
      "Requirement already satisfied: wcwidth in c:\\users\\rasimemirdagi\\anaconda3\\lib\\site-packages (from prompt-toolkit!=3.0.0,!=3.0.1,<3.1.0,>=2.0.0->ipython<8.0,>=7.23.1->ipykernel->jupyter->d2l==1.0.0a1.post0) (0.2.5)\n",
      "Requirement already satisfied: six>=1.5 in c:\\users\\rasimemirdagi\\anaconda3\\lib\\site-packages (from python-dateutil>=2.1->jupyter-client<8.0->ipykernel->jupyter->d2l==1.0.0a1.post0) (1.16.0)\n",
      "Requirement already satisfied: jupyterlab-widgets>=1.0.0 in c:\\users\\rasimemirdagi\\anaconda3\\lib\\site-packages (from ipywidgets->jupyter->d2l==1.0.0a1.post0) (1.0.0)\n",
      "Requirement already satisfied: widgetsnbextension~=3.5.0 in c:\\users\\rasimemirdagi\\anaconda3\\lib\\site-packages (from ipywidgets->jupyter->d2l==1.0.0a1.post0) (3.5.1)\n",
      "Requirement already satisfied: nbformat>=4.2.0 in c:\\users\\rasimemirdagi\\anaconda3\\lib\\site-packages (from ipywidgets->jupyter->d2l==1.0.0a1.post0) (5.1.3)\n",
      "Requirement already satisfied: jsonschema!=2.5.0,>=2.4 in c:\\users\\rasimemirdagi\\anaconda3\\lib\\site-packages (from nbformat>=4.2.0->ipywidgets->jupyter->d2l==1.0.0a1.post0) (3.2.0)\n",
      "Requirement already satisfied: attrs>=17.4.0 in c:\\users\\rasimemirdagi\\anaconda3\\lib\\site-packages (from jsonschema!=2.5.0,>=2.4->nbformat>=4.2.0->ipywidgets->jupyter->d2l==1.0.0a1.post0) (21.2.0)\n",
      "Requirement already satisfied: pyrsistent>=0.14.0 in c:\\users\\rasimemirdagi\\anaconda3\\lib\\site-packages (from jsonschema!=2.5.0,>=2.4->nbformat>=4.2.0->ipywidgets->jupyter->d2l==1.0.0a1.post0) (0.18.0)\n",
      "Requirement already satisfied: jinja2 in c:\\users\\rasimemirdagi\\anaconda3\\lib\\site-packages (from notebook->jupyter->d2l==1.0.0a1.post0) (2.11.3)\n",
      "Requirement already satisfied: terminado>=0.8.3 in c:\\users\\rasimemirdagi\\anaconda3\\lib\\site-packages (from notebook->jupyter->d2l==1.0.0a1.post0) (0.9.4)\n",
      "Requirement already satisfied: argon2-cffi in c:\\users\\rasimemirdagi\\anaconda3\\lib\\site-packages (from notebook->jupyter->d2l==1.0.0a1.post0) (20.1.0)\n",
      "Requirement already satisfied: Send2Trash>=1.5.0 in c:\\users\\rasimemirdagi\\anaconda3\\lib\\site-packages (from notebook->jupyter->d2l==1.0.0a1.post0) (1.8.0)\n",
      "Requirement already satisfied: prometheus-client in c:\\users\\rasimemirdagi\\anaconda3\\lib\\site-packages (from notebook->jupyter->d2l==1.0.0a1.post0) (0.11.0)\n",
      "Requirement already satisfied: pywinpty>=0.5 in c:\\users\\rasimemirdagi\\anaconda3\\lib\\site-packages (from terminado>=0.8.3->notebook->jupyter->d2l==1.0.0a1.post0) (0.5.7)\n",
      "Requirement already satisfied: cffi>=1.0.0 in c:\\users\\rasimemirdagi\\anaconda3\\lib\\site-packages (from argon2-cffi->notebook->jupyter->d2l==1.0.0a1.post0) (1.14.6)\n",
      "Requirement already satisfied: pycparser in c:\\users\\rasimemirdagi\\anaconda3\\lib\\site-packages (from cffi>=1.0.0->argon2-cffi->notebook->jupyter->d2l==1.0.0a1.post0) (2.20)\n",
      "Requirement already satisfied: MarkupSafe>=0.23 in c:\\users\\rasimemirdagi\\anaconda3\\lib\\site-packages (from jinja2->notebook->jupyter->d2l==1.0.0a1.post0) (1.1.1)\n",
      "Requirement already satisfied: pyparsing>=2.2.1 in c:\\users\\rasimemirdagi\\anaconda3\\lib\\site-packages (from matplotlib->d2l==1.0.0a1.post0) (3.0.4)\n",
      "Requirement already satisfied: pillow>=6.2.0 in c:\\users\\rasimemirdagi\\anaconda3\\lib\\site-packages (from matplotlib->d2l==1.0.0a1.post0) (8.4.0)\n",
      "Requirement already satisfied: kiwisolver>=1.0.1 in c:\\users\\rasimemirdagi\\anaconda3\\lib\\site-packages (from matplotlib->d2l==1.0.0a1.post0) (1.3.1)\n",
      "Requirement already satisfied: cycler>=0.10 in c:\\users\\rasimemirdagi\\anaconda3\\lib\\site-packages (from matplotlib->d2l==1.0.0a1.post0) (0.10.0)\n",
      "Requirement already satisfied: jupyterlab-pygments in c:\\users\\rasimemirdagi\\anaconda3\\lib\\site-packages (from nbconvert->jupyter->d2l==1.0.0a1.post0) (0.1.2)\n",
      "Requirement already satisfied: mistune<2,>=0.8.1 in c:\\users\\rasimemirdagi\\anaconda3\\lib\\site-packages (from nbconvert->jupyter->d2l==1.0.0a1.post0) (0.8.4)\n",
      "Requirement already satisfied: pandocfilters>=1.4.1 in c:\\users\\rasimemirdagi\\anaconda3\\lib\\site-packages (from nbconvert->jupyter->d2l==1.0.0a1.post0) (1.4.3)\n",
      "Requirement already satisfied: entrypoints>=0.2.2 in c:\\users\\rasimemirdagi\\anaconda3\\lib\\site-packages (from nbconvert->jupyter->d2l==1.0.0a1.post0) (0.3)\n",
      "Requirement already satisfied: nbclient<0.6.0,>=0.5.0 in c:\\users\\rasimemirdagi\\anaconda3\\lib\\site-packages (from nbconvert->jupyter->d2l==1.0.0a1.post0) (0.5.3)\n",
      "Requirement already satisfied: defusedxml in c:\\users\\rasimemirdagi\\anaconda3\\lib\\site-packages (from nbconvert->jupyter->d2l==1.0.0a1.post0) (0.7.1)\n",
      "Requirement already satisfied: testpath in c:\\users\\rasimemirdagi\\anaconda3\\lib\\site-packages (from nbconvert->jupyter->d2l==1.0.0a1.post0) (0.5.0)\n",
      "Requirement already satisfied: bleach in c:\\users\\rasimemirdagi\\anaconda3\\lib\\site-packages (from nbconvert->jupyter->d2l==1.0.0a1.post0) (4.0.0)\n",
      "Requirement already satisfied: async-generator in c:\\users\\rasimemirdagi\\anaconda3\\lib\\site-packages (from nbclient<0.6.0,>=0.5.0->nbconvert->jupyter->d2l==1.0.0a1.post0) (1.10)\n",
      "Requirement already satisfied: nest-asyncio in c:\\users\\rasimemirdagi\\anaconda3\\lib\\site-packages (from nbclient<0.6.0,>=0.5.0->nbconvert->jupyter->d2l==1.0.0a1.post0) (1.5.1)\n",
      "Requirement already satisfied: webencodings in c:\\users\\rasimemirdagi\\anaconda3\\lib\\site-packages (from bleach->nbconvert->jupyter->d2l==1.0.0a1.post0) (0.5.1)\n",
      "Requirement already satisfied: packaging in c:\\users\\rasimemirdagi\\anaconda3\\lib\\site-packages (from bleach->nbconvert->jupyter->d2l==1.0.0a1.post0) (21.0)\n",
      "Requirement already satisfied: pytz>=2017.3 in c:\\users\\rasimemirdagi\\anaconda3\\lib\\site-packages (from pandas->d2l==1.0.0a1.post0) (2021.3)\n",
      "Requirement already satisfied: qtpy in c:\\users\\rasimemirdagi\\anaconda3\\lib\\site-packages (from qtconsole->jupyter->d2l==1.0.0a1.post0) (1.10.0)\n",
      "Requirement already satisfied: urllib3<1.27,>=1.21.1 in c:\\users\\rasimemirdagi\\anaconda3\\lib\\site-packages (from requests->d2l==1.0.0a1.post0) (1.26.7)\n",
      "Requirement already satisfied: idna<4,>=2.5 in c:\\users\\rasimemirdagi\\anaconda3\\lib\\site-packages (from requests->d2l==1.0.0a1.post0) (3.2)\n",
      "Requirement already satisfied: charset-normalizer~=2.0.0 in c:\\users\\rasimemirdagi\\anaconda3\\lib\\site-packages (from requests->d2l==1.0.0a1.post0) (2.0.4)\n",
      "Requirement already satisfied: certifi>=2017.4.17 in c:\\users\\rasimemirdagi\\anaconda3\\lib\\site-packages (from requests->d2l==1.0.0a1.post0) (2022.6.15)\n"
     ]
    }
   ],
   "source": [
    "!pip install d2l==1.0.0a1.post0"
   ]
  },
  {
   "cell_type": "code",
   "execution_count": 2,
   "id": "4c507da2",
   "metadata": {},
   "outputs": [
    {
     "name": "stdout",
     "output_type": "stream",
     "text": [
      "Requirement already satisfied: torchmetrics in c:\\users\\rasimemirdagi\\anaconda3\\lib\\site-packages (0.11.0)\n",
      "Requirement already satisfied: numpy>=1.17.2 in c:\\users\\rasimemirdagi\\anaconda3\\lib\\site-packages (from torchmetrics) (1.21.5)\n",
      "Requirement already satisfied: packaging in c:\\users\\rasimemirdagi\\anaconda3\\lib\\site-packages (from torchmetrics) (21.0)\n",
      "Requirement already satisfied: torch>=1.8.1 in c:\\users\\rasimemirdagi\\anaconda3\\lib\\site-packages (from torchmetrics) (1.13.0)\n",
      "Requirement already satisfied: typing-extensions in c:\\users\\rasimemirdagi\\anaconda3\\lib\\site-packages (from torch>=1.8.1->torchmetrics) (3.10.0.2)\n",
      "Requirement already satisfied: pyparsing>=2.0.2 in c:\\users\\rasimemirdagi\\anaconda3\\lib\\site-packages (from packaging->torchmetrics) (3.0.4)\n"
     ]
    }
   ],
   "source": [
    "!pip install torchmetrics"
   ]
  },
  {
   "cell_type": "code",
   "execution_count": 1,
   "id": "5605a6fc",
   "metadata": {},
   "outputs": [],
   "source": [
    "import os\n",
    "\n",
    "import joblib as jb\n",
    "import matplotlib.pyplot as plt\n",
    "import numpy as np\n",
    "import pandas as pd\n",
    "import torch\n",
    "import torchvision\n",
    "from d2l import torch as d2l\n",
    "from torch import nn\n",
    "from torchmetrics import R2Score\n",
    "from torchsummary import summary"
   ]
  },
  {
   "cell_type": "code",
   "execution_count": 2,
   "id": "c49c825a",
   "metadata": {},
   "outputs": [],
   "source": [
    "\n",
    "class Flatten(nn.Module):\n",
    "    \"\"\"Converts N-dimensional tensor into 'flat' one.\"\"\"\n",
    "\n",
    "    def __init__(self, keep_batch_dim=True):\n",
    "        super().__init__()\n",
    "        self.keep_batch_dim = keep_batch_dim\n",
    "\n",
    "    def forward(self, x):\n",
    "        if self.keep_batch_dim:\n",
    "            return x.view(x.size(0), -1)\n",
    "        return x.view(-1)\n"
   ]
  },
  {
   "cell_type": "code",
   "execution_count": 3,
   "id": "4ed98f07",
   "metadata": {},
   "outputs": [],
   "source": [
    "\n",
    "class CNN(nn.Module):\n",
    "  def __init__(self, input_size):\n",
    "    super(CNN, self).__init__()\n",
    "    \n",
    "    self.conv1 = nn.Conv1d(1, 16, kernel_size=3, stride=1, padding=1)\n",
    "    self.relu1 = nn.ReLU()\n",
    "    self.maxpool1 = nn.MaxPool1d(kernel_size=2, stride=2)\n",
    "    \n",
    "    self.conv2 = nn.Conv1d(16, 32, kernel_size=3, stride=1, padding=1)\n",
    "    self.relu2 = nn.ReLU()\n",
    "    self.maxpool2 = nn.MaxPool1d(kernel_size=2, stride=2)\n",
    "    \n",
    "    self.linear1 = nn.Linear(1920, 540)\n",
    "    self.relu3 = nn.ReLU()\n",
    "    self.linear2 = nn.Linear(540, 240)\n",
    "    self.relu4 = nn.ReLU()\n",
    "    self.linear3 = nn.Linear(240,128)\n",
    "    self.relu5 = nn.ReLU()\n",
    "    self.linear4 = nn.Linear(128,1)\n",
    "    \n",
    "  def forward(self, x):\n",
    "    out = self.conv1(x)\n",
    "    out = self.relu1(out)\n",
    "    out = self.maxpool1(out)\n",
    "    \n",
    "    out = self.conv2(out)\n",
    "    out = self.relu2(out)\n",
    "    out = self.maxpool2(out)\n",
    "    \n",
    "    out = out.reshape(out.size(0), -1)\n",
    "    out = self.linear1(out)\n",
    "    out = self.relu3(out)\n",
    "    out = self.linear2(out)\n",
    "    out = self.relu4(out)\n",
    "    out = self.linear3(out)\n",
    "    out = self.relu5(out)\n",
    "    out = self.linear4(out)\n",
    "\n",
    "    \n",
    "    \n",
    "    return out\n",
    "\n",
    "\n"
   ]
  },
  {
   "cell_type": "code",
   "execution_count": 4,
   "id": "fa67d3e6",
   "metadata": {},
   "outputs": [],
   "source": [
    "# Calculating the loss\n",
    "# loss = nn.CrossEntropyLoss(reduction='none')\n",
    "loss = nn.MSELoss(reduction='none')\n",
    "\n",
    "\n",
    "def evaluate_loss(data_iter, net, devices):\n",
    "    l_sum, n = 0.0, 0\n",
    "    for features, labels in data_iter:\n",
    "        features, labels = features.to(devices[0]), labels.to(devices[0])\n",
    "        outputs = net(features)\n",
    "        l = loss(outputs, labels)\n",
    "        l_sum += l.sum()\n",
    "        n += labels.numel()\n",
    "    return l_sum / n\n"
   ]
  },
  {
   "cell_type": "code",
   "execution_count": 5,
   "id": "100edeba",
   "metadata": {},
   "outputs": [],
   "source": [
    "def loss_plotter(train_losses,test_losses):\n",
    "    plt.figure(figsize = (10,6) )\n",
    "    plt.plot(train_losses, 'r*-', label = \"Train Loss\")\n",
    "    plot.plot(test_losses, 'b*-', label = \"Test Loss\")\n",
    "    plt.legend()\n",
    "    plt.grid()\n",
    "    plt.xlabel(\"Epochs\")\n",
    "    plt.ylabel(\"The Loss Value\")\n",
    "    \n",
    "    "
   ]
  },
  {
   "cell_type": "code",
   "execution_count": 6,
   "id": "66311fb2",
   "metadata": {},
   "outputs": [],
   "source": [
    "spo2_vals = jb.load('strided_dataset_spo2_vals.pk')"
   ]
  },
  {
   "cell_type": "code",
   "execution_count": 7,
   "id": "3e7c156b",
   "metadata": {},
   "outputs": [],
   "source": [
    "stride_dataset = jb.load('strided_dataset.pk')"
   ]
  },
  {
   "cell_type": "code",
   "execution_count": 8,
   "id": "37b4e681",
   "metadata": {},
   "outputs": [],
   "source": [
    "dataset = pd.DataFrame.from_dict(stride_dataset).transpose()\n"
   ]
  },
  {
   "cell_type": "code",
   "execution_count": 9,
   "id": "2125e01c",
   "metadata": {},
   "outputs": [],
   "source": [
    "dataset_spo2 = pd.DataFrame.from_dict(spo2_vals).transpose()"
   ]
  },
  {
   "cell_type": "code",
   "execution_count": 10,
   "id": "40531334",
   "metadata": {},
   "outputs": [],
   "source": [
    "dataset_spo2 = dataset_spo2/100"
   ]
  },
  {
   "cell_type": "code",
   "execution_count": 11,
   "id": "b2abee97",
   "metadata": {},
   "outputs": [],
   "source": [
    "X_train, X_valid, X_test = np.split(dataset.sample(\n",
    "    frac=1), [int(.8*len(dataset)), int(.9*len(dataset))])\n",
    "y_train, y_valid, y_test = dataset_spo2.loc[X_train.index], dataset_spo2.loc[\n",
    "    X_valid.index], dataset_spo2.loc[X_test.index]\n"
   ]
  },
  {
   "cell_type": "code",
   "execution_count": 12,
   "id": "648ac1d8",
   "metadata": {},
   "outputs": [],
   "source": [
    "# unroll the data\n",
    "X_train_unrolled = []\n",
    "y_train_unrolled = []\n",
    "for r in X_train.index:\n",
    "    for c in X_train.columns:\n",
    "        # skip values containing NaN\n",
    "        if not np.isnan(X_train.loc[r][c]).any() and not np.isnan(y_train.loc[r][c]):\n",
    "            X_train_unrolled.append(X_train.loc[r][c])\n",
    "            y_train_unrolled.append(y_train.loc[r][c])\n",
    "\n",
    "X_valid_unrolled = []\n",
    "y_valid_unrolled = []\n",
    "for r in X_valid.index:\n",
    "    for c in X_valid.columns:\n",
    "        # skip values containing NaN\n",
    "        if not np.isnan(X_valid.loc[r][c]).any() and not np.isnan(y_valid.loc[r][c]):\n",
    "            X_valid_unrolled.append(X_valid.loc[r][c])\n",
    "            y_valid_unrolled.append(y_valid.loc[r][c])\n",
    "\n",
    "X_test_unrolled = []\n",
    "y_test_unrolled = []\n",
    "for r in X_test.index:\n",
    "    for c in X_test.columns:\n",
    "        # skip values containing NaN\n",
    "        if not np.isnan(X_test.loc[r][c]).any() and not np.isnan(y_test.loc[r][c]):\n",
    "            X_test_unrolled.append(X_test.loc[r][c])\n",
    "            y_test_unrolled.append(y_test.loc[r][c])\n"
   ]
  },
  {
   "cell_type": "code",
   "execution_count": 13,
   "id": "e629135e",
   "metadata": {},
   "outputs": [
    {
     "name": "stderr",
     "output_type": "stream",
     "text": [
      "C:\\Users\\RASIME~1\\AppData\\Local\\Temp/ipykernel_20172/997760739.py:2: UserWarning: Creating a tensor from a list of numpy.ndarrays is extremely slow. Please consider converting the list to a single numpy.ndarray with numpy.array() before converting to a tensor. (Triggered internally at C:\\actions-runner\\_work\\pytorch\\pytorch\\builder\\windows\\pytorch\\torch\\csrc\\utils\\tensor_new.cpp:233.)\n",
      "  X_train, y_train = torch.tensor(X_train_unrolled, dtype=torch.float32), torch.tensor(\n"
     ]
    }
   ],
   "source": [
    "# convert to tensors\n",
    "X_train, y_train = torch.tensor(X_train_unrolled, dtype=torch.float32), torch.tensor(\n",
    "    y_train_unrolled, dtype=torch.float32)\n",
    "X_valid, y_valid = torch.tensor(X_valid_unrolled, dtype=torch.float32), torch.tensor(\n",
    "    y_valid_unrolled, dtype=torch.float32)\n",
    "X_test, y_test = torch.tensor(X_test_unrolled, dtype=torch.float32), torch.tensor(\n",
    "    y_test_unrolled, dtype=torch.float32)"
   ]
  },
  {
   "cell_type": "code",
   "execution_count": 14,
   "id": "d6b78007",
   "metadata": {},
   "outputs": [],
   "source": [
    "# reshape y tensors\n",
    "y_train = y_train.reshape(-1, 1)\n",
    "y_valid = y_valid.reshape(-1, 1)\n",
    "y_test = y_test.reshape(-1, 1)"
   ]
  },
  {
   "cell_type": "code",
   "execution_count": 15,
   "id": "0deb285f",
   "metadata": {},
   "outputs": [],
   "source": [
    "# normalize x data\n",
    "X_train_mean = X_train.mean() \n",
    "X_train_std = X_train.std()\n",
    "X_train = (X_train - X_train_mean) / (X_train_std + 1e-7)\n",
    "\n",
    "X_valid_mean = X_valid.mean()\n",
    "X_valid_std = X_valid.std()\n",
    "X_valid = (X_valid - X_valid_mean) / (X_valid_std + 1e-7)\n",
    "\n",
    "X_test_mean = X_test.mean()\n",
    "X_test_std = X_test.std()\n",
    "X_test = (X_test - X_test_mean) / (X_test_std + 1e-7)"
   ]
  },
  {
   "cell_type": "code",
   "execution_count": 16,
   "id": "9792b35d",
   "metadata": {},
   "outputs": [],
   "source": [
    "# convert to torch iterators\n",
    "batch_size = 64\n",
    "train_iter = torch.utils.data.DataLoader(torch.utils.data.TensorDataset(\n",
    "    X_train, y_train), batch_size=batch_size, shuffle=True)\n",
    "valid_iter = torch.utils.data.DataLoader(torch.utils.data.TensorDataset(\n",
    "    X_valid, y_valid), batch_size=batch_size, shuffle=True)\n",
    "test_iter = torch.utils.data.DataLoader(torch.utils.data.TensorDataset(\n",
    "    X_test, y_test), batch_size=batch_size, shuffle=True)"
   ]
  },
  {
   "cell_type": "code",
   "execution_count": 17,
   "id": "c3053ee2",
   "metadata": {},
   "outputs": [],
   "source": [
    "\n",
    "num_epochs = 10\n",
    "lr, wd = 1e-4, 1e-4\n",
    "lr_period, lr_decay = 2, 0.9\n"
   ]
  },
  {
   "cell_type": "code",
   "execution_count": 18,
   "id": "83402aeb",
   "metadata": {},
   "outputs": [],
   "source": [
    "device = torch.device('cuda' if torch.cuda.is_available() else 'cpu')"
   ]
  },
  {
   "cell_type": "code",
   "execution_count": 19,
   "id": "b1d6e1e3",
   "metadata": {},
   "outputs": [],
   "source": [
    "model = CNN(240).to(device)\n",
    "#Setting the loss function\n",
    "cost = nn.L1Loss()\n",
    "\n",
    "#Setting the optimizer with the model parameters and learning rate\n",
    "optimizer = torch.optim.Adam(model.parameters(), lr=lr)\n",
    "\n",
    "#this is defined to print how many steps are remaining when training\n",
    "total_step = len(train_iter)"
   ]
  },
  {
   "cell_type": "code",
   "execution_count": 20,
   "id": "063deb24",
   "metadata": {},
   "outputs": [
    {
     "name": "stdout",
     "output_type": "stream",
     "text": [
      "----------------------------------------------------------------\n",
      "        Layer (type)               Output Shape         Param #\n",
      "================================================================\n",
      "            Conv1d-1              [-1, 16, 240]              64\n",
      "              ReLU-2              [-1, 16, 240]               0\n",
      "         MaxPool1d-3              [-1, 16, 120]               0\n",
      "            Conv1d-4              [-1, 32, 120]           1,568\n",
      "              ReLU-5              [-1, 32, 120]               0\n",
      "         MaxPool1d-6               [-1, 32, 60]               0\n",
      "            Linear-7                  [-1, 540]       1,037,340\n",
      "              ReLU-8                  [-1, 540]               0\n",
      "            Linear-9                  [-1, 240]         129,840\n",
      "             ReLU-10                  [-1, 240]               0\n",
      "           Linear-11                  [-1, 128]          30,848\n",
      "             ReLU-12                  [-1, 128]               0\n",
      "           Linear-13                    [-1, 1]             129\n",
      "================================================================\n",
      "Total params: 1,199,789\n",
      "Trainable params: 1,199,789\n",
      "Non-trainable params: 0\n",
      "----------------------------------------------------------------\n",
      "Input size (MB): 0.00\n",
      "Forward/backward pass size (MB): 0.16\n",
      "Params size (MB): 4.58\n",
      "Estimated Total Size (MB): 4.74\n",
      "----------------------------------------------------------------\n"
     ]
    }
   ],
   "source": [
    "summary(model, (1,240))"
   ]
  },
  {
   "cell_type": "code",
   "execution_count": null,
   "id": "0e90a9a0",
   "metadata": {},
   "outputs": [
    {
     "name": "stderr",
     "output_type": "stream",
     "text": [
      "C:\\Users\\rasimemirdagi\\anaconda3\\lib\\site-packages\\torch\\nn\\modules\\loss.py:101: UserWarning: Using a target size (torch.Size([64, 1, 1])) that is different to the input size (torch.Size([64, 1])). This will likely lead to incorrect results due to broadcasting. Please ensure they have the same size.\n",
      "  return F.l1_loss(input, target, reduction=self.reduction)\n",
      "C:\\Users\\rasimemirdagi\\anaconda3\\lib\\site-packages\\torch\\nn\\modules\\loss.py:101: UserWarning: Using a target size (torch.Size([48, 1, 1])) that is different to the input size (torch.Size([48, 1])). This will likely lead to incorrect results due to broadcasting. Please ensure they have the same size.\n",
      "  return F.l1_loss(input, target, reduction=self.reduction)\n",
      "C:\\Users\\rasimemirdagi\\anaconda3\\lib\\site-packages\\torch\\nn\\modules\\loss.py:101: UserWarning: Using a target size (torch.Size([16, 1, 1])) that is different to the input size (torch.Size([16, 1])). This will likely lead to incorrect results due to broadcasting. Please ensure they have the same size.\n",
      "  return F.l1_loss(input, target, reduction=self.reduction)\n"
     ]
    },
    {
     "name": "stdout",
     "output_type": "stream",
     "text": [
      "1) The Train Loss value with the epoch: 0 is equal to 2.144267037510872\n",
      "2) The Test Loss value with the epoch: 0 is equal to 1.8216444179415703\n",
      "-------------------------------------------------------------------\n",
      "1) The Train Loss value with the epoch: 1 is equal to 3.0467264354228973\n",
      "2) The Test Loss value with the epoch: 1 is equal to 2.20915786921978\n",
      "-------------------------------------------------------------------\n",
      "1) The Train Loss value with the epoch: 2 is equal to 2.586207166314125\n",
      "2) The Test Loss value with the epoch: 2 is equal to 2.420535124838352\n",
      "-------------------------------------------------------------------\n",
      "1) The Train Loss value with the epoch: 3 is equal to 2.438203990459442\n",
      "2) The Test Loss value with the epoch: 3 is equal to 1.8437454476952553\n",
      "-------------------------------------------------------------------\n",
      "1) The Train Loss value with the epoch: 4 is equal to 2.433631755411625\n",
      "2) The Test Loss value with the epoch: 4 is equal to 1.9054371863603592\n",
      "-------------------------------------------------------------------\n",
      "1) The Train Loss value with the epoch: 5 is equal to 2.1265797317028046\n",
      "2) The Test Loss value with the epoch: 5 is equal to 2.3910410702228546\n",
      "-------------------------------------------------------------------\n",
      "1) The Train Loss value with the epoch: 6 is equal to 2.4674424901604652\n",
      "2) The Test Loss value with the epoch: 6 is equal to 1.8256930634379387\n",
      "-------------------------------------------------------------------\n",
      "1) The Train Loss value with the epoch: 7 is equal to 3.02248764783144\n",
      "2) The Test Loss value with the epoch: 7 is equal to 2.022809721529484\n",
      "-------------------------------------------------------------------\n",
      "1) The Train Loss value with the epoch: 8 is equal to 1.8777411431074142\n",
      "2) The Test Loss value with the epoch: 8 is equal to 1.7619887366890907\n",
      "-------------------------------------------------------------------\n",
      "1) The Train Loss value with the epoch: 9 is equal to 2.461495064198971\n",
      "2) The Test Loss value with the epoch: 9 is equal to 2.0347846671938896\n",
      "-------------------------------------------------------------------\n",
      "1) The Train Loss value with the epoch: 10 is equal to 2.543247677385807\n",
      "2) The Test Loss value with the epoch: 10 is equal to 2.2628426551818848\n",
      "-------------------------------------------------------------------\n",
      "1) The Train Loss value with the epoch: 11 is equal to 3.6850091069936752\n",
      "2) The Test Loss value with the epoch: 11 is equal to 1.2918449938297272\n",
      "-------------------------------------------------------------------\n",
      "1) The Train Loss value with the epoch: 12 is equal to 2.4748479947447777\n",
      "2) The Test Loss value with the epoch: 12 is equal to 1.6475941985845566\n",
      "-------------------------------------------------------------------\n",
      "1) The Train Loss value with the epoch: 13 is equal to 2.8876278549432755\n",
      "2) The Test Loss value with the epoch: 13 is equal to 1.47619117051363\n",
      "-------------------------------------------------------------------\n",
      "1) The Train Loss value with the epoch: 14 is equal to 2.867913246154785\n",
      "2) The Test Loss value with the epoch: 14 is equal to 2.553900331258774\n",
      "-------------------------------------------------------------------\n",
      "1) The Train Loss value with the epoch: 15 is equal to 2.4755964055657387\n",
      "2) The Test Loss value with the epoch: 15 is equal to 1.6261870041489601\n",
      "-------------------------------------------------------------------\n",
      "1) The Train Loss value with the epoch: 16 is equal to 2.8259605169296265\n",
      "2) The Test Loss value with the epoch: 16 is equal to 2.836063504219055\n",
      "-------------------------------------------------------------------\n",
      "1) The Train Loss value with the epoch: 17 is equal to 2.8128696605563164\n",
      "2) The Test Loss value with the epoch: 17 is equal to 1.3540653511881828\n",
      "-------------------------------------------------------------------\n",
      "1) The Train Loss value with the epoch: 18 is equal to 2.3663196712732315\n",
      "2) The Test Loss value with the epoch: 18 is equal to 1.4637770131230354\n",
      "-------------------------------------------------------------------\n",
      "1) The Train Loss value with the epoch: 19 is equal to 3.1881164759397507\n",
      "2) The Test Loss value with the epoch: 19 is equal to 2.714325487613678\n",
      "-------------------------------------------------------------------\n",
      "1) The Train Loss value with the epoch: 20 is equal to 2.92079821228981\n",
      "2) The Test Loss value with the epoch: 20 is equal to 3.5449985414743423\n",
      "-------------------------------------------------------------------\n",
      "1) The Train Loss value with the epoch: 21 is equal to 2.477775700390339\n",
      "2) The Test Loss value with the epoch: 21 is equal to 1.6813438385725021\n",
      "-------------------------------------------------------------------\n",
      "1) The Train Loss value with the epoch: 22 is equal to 2.304732985794544\n",
      "2) The Test Loss value with the epoch: 22 is equal to 1.8066193908452988\n",
      "-------------------------------------------------------------------\n",
      "1) The Train Loss value with the epoch: 23 is equal to 2.786378003656864\n",
      "2) The Test Loss value with the epoch: 23 is equal to 2.508656494319439\n",
      "-------------------------------------------------------------------\n",
      "1) The Train Loss value with the epoch: 24 is equal to 2.68549844622612\n",
      "2) The Test Loss value with the epoch: 24 is equal to 2.0425334572792053\n",
      "-------------------------------------------------------------------\n",
      "1) The Train Loss value with the epoch: 25 is equal to 2.840651385486126\n",
      "2) The Test Loss value with the epoch: 25 is equal to 3.076683357357979\n",
      "-------------------------------------------------------------------\n",
      "1) The Train Loss value with the epoch: 26 is equal to 2.32241153717041\n",
      "2) The Test Loss value with the epoch: 26 is equal to 2.1622318774461746\n",
      "-------------------------------------------------------------------\n",
      "1) The Train Loss value with the epoch: 27 is equal to 3.5194821655750275\n",
      "2) The Test Loss value with the epoch: 27 is equal to 1.6394684091210365\n",
      "-------------------------------------------------------------------\n"
     ]
    }
   ],
   "source": [
    "train_losses = []\n",
    "test_losses = []\n",
    "\n",
    "num_epochs = 100\n",
    "for epoch in range(num_epochs):\n",
    "    \n",
    "\n",
    "    \n",
    "    \n",
    "    for i, (features, labels) in enumerate(train_iter):\n",
    "        batch_size = features.shape[0]\n",
    "        features = torch.reshape(features, (batch_size,1,240))\n",
    "        labels = torch.reshape(labels, (batch_size,1,1))\n",
    "        features = features.to(device)\n",
    "        labels = labels.to(device)\n",
    "        outputs = model(features)\n",
    "        loss = cost(outputs, labels)\n",
    "        optimizer.zero_grad()\n",
    "        loss.backward()\n",
    "        optimizer.step()\n",
    "    \n",
    "        \n",
    "        \n",
    "    for i, (features_test, labels_test) in enumerate(test_iter):\n",
    "        batch_size = features_test.shape[0]\n",
    "        features_test = torch.reshape(features_test, (batch_size,1,240))\n",
    "        labels_test = torch.reshape(labels_test, (batch_size,1,1))\n",
    "        \n",
    "        features_test = features_test.to(device)\n",
    "        labels_test = labels_test.to(device)\n",
    "        outputs_test = model(features_test)\n",
    "        loss_test = cost(outputs_test,labels_test)\n",
    "     \n",
    "    train_losses.append(loss.item()*100)\n",
    "    test_losses.append(loss_test.item()*100)\n",
    "    print(\"1) The Train Loss value with the epoch: \" + str(epoch) + \" is equal to \" + str(loss.item()*100))\n",
    "    print(\"2) The Test Loss value with the epoch: \" + str(epoch) + \" is equal to \" + str(loss_test.item()*100))\n",
    "    print(\"-------------------------------------------------------------------\")\n",
    "    \n",
    "    if epoch == num_epochs-2:\n",
    "        break\n",
    "\n"
   ]
  },
  {
   "cell_type": "code",
   "execution_count": null,
   "id": "09f867c3",
   "metadata": {},
   "outputs": [],
   "source": [
    "loss_plotter(train_losses,test_losses)"
   ]
  },
  {
   "cell_type": "code",
   "execution_count": null,
   "id": "c10a262b",
   "metadata": {},
   "outputs": [],
   "source": []
  },
  {
   "cell_type": "code",
   "execution_count": null,
   "id": "7125ae14",
   "metadata": {},
   "outputs": [],
   "source": []
  },
  {
   "cell_type": "code",
   "execution_count": null,
   "id": "503f9374",
   "metadata": {},
   "outputs": [],
   "source": []
  },
  {
   "cell_type": "code",
   "execution_count": null,
   "id": "057f4828",
   "metadata": {},
   "outputs": [],
   "source": []
  }
 ],
 "metadata": {
  "kernelspec": {
   "display_name": "Python 3 (ipykernel)",
   "language": "python",
   "name": "python3"
  },
  "language_info": {
   "codemirror_mode": {
    "name": "ipython",
    "version": 3
   },
   "file_extension": ".py",
   "mimetype": "text/x-python",
   "name": "python",
   "nbconvert_exporter": "python",
   "pygments_lexer": "ipython3",
   "version": "3.9.7"
  }
 },
 "nbformat": 4,
 "nbformat_minor": 5
}
