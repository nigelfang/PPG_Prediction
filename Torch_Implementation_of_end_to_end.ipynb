{
 "cells": [
  {
   "cell_type": "code",
   "execution_count": 1,
   "id": "f6fd9dd5",
   "metadata": {},
   "outputs": [
    {
     "name": "stdout",
     "output_type": "stream",
     "text": [
      "Requirement already satisfied: d2l==1.0.0a1.post0 in c:\\users\\rasimemirdagi\\anaconda3\\lib\\site-packages (1.0.0a1.post0)\n",
      "Requirement already satisfied: numpy in c:\\users\\rasimemirdagi\\anaconda3\\lib\\site-packages (from d2l==1.0.0a1.post0) (1.21.5)\n",
      "Requirement already satisfied: jupyter in c:\\users\\rasimemirdagi\\anaconda3\\lib\\site-packages (from d2l==1.0.0a1.post0) (1.0.0)\n",
      "Requirement already satisfied: matplotlib in c:\\users\\rasimemirdagi\\anaconda3\\lib\\site-packages (from d2l==1.0.0a1.post0) (3.4.3)\n",
      "Requirement already satisfied: gym in c:\\users\\rasimemirdagi\\anaconda3\\lib\\site-packages (from d2l==1.0.0a1.post0) (0.26.2)\n",
      "Requirement already satisfied: pandas in c:\\users\\rasimemirdagi\\anaconda3\\lib\\site-packages (from d2l==1.0.0a1.post0) (1.3.4)\n",
      "Requirement already satisfied: requests in c:\\users\\rasimemirdagi\\anaconda3\\lib\\site-packages (from d2l==1.0.0a1.post0) (2.26.0)\n",
      "Requirement already satisfied: matplotlib-inline in c:\\users\\rasimemirdagi\\anaconda3\\lib\\site-packages (from d2l==1.0.0a1.post0) (0.1.2)\n",
      "Requirement already satisfied: importlib-metadata>=4.8.0 in c:\\users\\rasimemirdagi\\anaconda3\\lib\\site-packages (from gym->d2l==1.0.0a1.post0) (4.8.1)\n",
      "Requirement already satisfied: gym-notices>=0.0.4 in c:\\users\\rasimemirdagi\\anaconda3\\lib\\site-packages (from gym->d2l==1.0.0a1.post0) (0.0.8)\n",
      "Requirement already satisfied: cloudpickle>=1.2.0 in c:\\users\\rasimemirdagi\\anaconda3\\lib\\site-packages (from gym->d2l==1.0.0a1.post0) (2.0.0)\n",
      "Requirement already satisfied: zipp>=0.5 in c:\\users\\rasimemirdagi\\anaconda3\\lib\\site-packages (from importlib-metadata>=4.8.0->gym->d2l==1.0.0a1.post0) (3.6.0)\n",
      "Requirement already satisfied: nbconvert in c:\\users\\rasimemirdagi\\anaconda3\\lib\\site-packages (from jupyter->d2l==1.0.0a1.post0) (6.1.0)\n",
      "Requirement already satisfied: jupyter-console in c:\\users\\rasimemirdagi\\anaconda3\\lib\\site-packages (from jupyter->d2l==1.0.0a1.post0) (6.4.0)\n",
      "Requirement already satisfied: ipywidgets in c:\\users\\rasimemirdagi\\anaconda3\\lib\\site-packages (from jupyter->d2l==1.0.0a1.post0) (7.6.5)\n",
      "Requirement already satisfied: notebook in c:\\users\\rasimemirdagi\\anaconda3\\lib\\site-packages (from jupyter->d2l==1.0.0a1.post0) (6.4.5)\n",
      "Requirement already satisfied: ipykernel in c:\\users\\rasimemirdagi\\anaconda3\\lib\\site-packages (from jupyter->d2l==1.0.0a1.post0) (6.4.1)\n",
      "Requirement already satisfied: qtconsole in c:\\users\\rasimemirdagi\\anaconda3\\lib\\site-packages (from jupyter->d2l==1.0.0a1.post0) (5.1.1)\n",
      "Requirement already satisfied: traitlets<6.0,>=4.1.0 in c:\\users\\rasimemirdagi\\anaconda3\\lib\\site-packages (from ipykernel->jupyter->d2l==1.0.0a1.post0) (5.1.0)\n",
      "Requirement already satisfied: jupyter-client<8.0 in c:\\users\\rasimemirdagi\\anaconda3\\lib\\site-packages (from ipykernel->jupyter->d2l==1.0.0a1.post0) (6.1.12)\n",
      "Requirement already satisfied: ipython-genutils in c:\\users\\rasimemirdagi\\anaconda3\\lib\\site-packages (from ipykernel->jupyter->d2l==1.0.0a1.post0) (0.2.0)\n",
      "Requirement already satisfied: tornado<7.0,>=4.2 in c:\\users\\rasimemirdagi\\anaconda3\\lib\\site-packages (from ipykernel->jupyter->d2l==1.0.0a1.post0) (6.1)\n",
      "Requirement already satisfied: ipython<8.0,>=7.23.1 in c:\\users\\rasimemirdagi\\anaconda3\\lib\\site-packages (from ipykernel->jupyter->d2l==1.0.0a1.post0) (7.29.0)\n",
      "Requirement already satisfied: debugpy<2.0,>=1.0.0 in c:\\users\\rasimemirdagi\\anaconda3\\lib\\site-packages (from ipykernel->jupyter->d2l==1.0.0a1.post0) (1.4.1)\n",
      "Requirement already satisfied: pickleshare in c:\\users\\rasimemirdagi\\anaconda3\\lib\\site-packages (from ipython<8.0,>=7.23.1->ipykernel->jupyter->d2l==1.0.0a1.post0) (0.7.5)\n",
      "Requirement already satisfied: colorama in c:\\users\\rasimemirdagi\\anaconda3\\lib\\site-packages (from ipython<8.0,>=7.23.1->ipykernel->jupyter->d2l==1.0.0a1.post0) (0.4.4)\n",
      "Requirement already satisfied: backcall in c:\\users\\rasimemirdagi\\anaconda3\\lib\\site-packages (from ipython<8.0,>=7.23.1->ipykernel->jupyter->d2l==1.0.0a1.post0) (0.2.0)\n",
      "Requirement already satisfied: setuptools>=18.5 in c:\\users\\rasimemirdagi\\anaconda3\\lib\\site-packages (from ipython<8.0,>=7.23.1->ipykernel->jupyter->d2l==1.0.0a1.post0) (58.0.4)\n",
      "Requirement already satisfied: jedi>=0.16 in c:\\users\\rasimemirdagi\\anaconda3\\lib\\site-packages (from ipython<8.0,>=7.23.1->ipykernel->jupyter->d2l==1.0.0a1.post0) (0.18.0)\n",
      "Requirement already satisfied: prompt-toolkit!=3.0.0,!=3.0.1,<3.1.0,>=2.0.0 in c:\\users\\rasimemirdagi\\anaconda3\\lib\\site-packages (from ipython<8.0,>=7.23.1->ipykernel->jupyter->d2l==1.0.0a1.post0) (3.0.20)\n",
      "Requirement already satisfied: decorator in c:\\users\\rasimemirdagi\\anaconda3\\lib\\site-packages (from ipython<8.0,>=7.23.1->ipykernel->jupyter->d2l==1.0.0a1.post0) (5.1.0)\n",
      "Requirement already satisfied: pygments in c:\\users\\rasimemirdagi\\anaconda3\\lib\\site-packages (from ipython<8.0,>=7.23.1->ipykernel->jupyter->d2l==1.0.0a1.post0) (2.10.0)\n",
      "Requirement already satisfied: parso<0.9.0,>=0.8.0 in c:\\users\\rasimemirdagi\\anaconda3\\lib\\site-packages (from jedi>=0.16->ipython<8.0,>=7.23.1->ipykernel->jupyter->d2l==1.0.0a1.post0) (0.8.2)\n",
      "Requirement already satisfied: jupyter-core>=4.6.0 in c:\\users\\rasimemirdagi\\anaconda3\\lib\\site-packages (from jupyter-client<8.0->ipykernel->jupyter->d2l==1.0.0a1.post0) (4.8.1)\n",
      "Requirement already satisfied: pyzmq>=13 in c:\\users\\rasimemirdagi\\anaconda3\\lib\\site-packages (from jupyter-client<8.0->ipykernel->jupyter->d2l==1.0.0a1.post0) (22.2.1)\n",
      "Requirement already satisfied: python-dateutil>=2.1 in c:\\users\\rasimemirdagi\\anaconda3\\lib\\site-packages (from jupyter-client<8.0->ipykernel->jupyter->d2l==1.0.0a1.post0) (2.8.2)\n",
      "Requirement already satisfied: pywin32>=1.0 in c:\\users\\rasimemirdagi\\anaconda3\\lib\\site-packages (from jupyter-core>=4.6.0->jupyter-client<8.0->ipykernel->jupyter->d2l==1.0.0a1.post0) (228)\n",
      "Requirement already satisfied: wcwidth in c:\\users\\rasimemirdagi\\anaconda3\\lib\\site-packages (from prompt-toolkit!=3.0.0,!=3.0.1,<3.1.0,>=2.0.0->ipython<8.0,>=7.23.1->ipykernel->jupyter->d2l==1.0.0a1.post0) (0.2.5)\n",
      "Requirement already satisfied: six>=1.5 in c:\\users\\rasimemirdagi\\anaconda3\\lib\\site-packages (from python-dateutil>=2.1->jupyter-client<8.0->ipykernel->jupyter->d2l==1.0.0a1.post0) (1.16.0)\n",
      "Requirement already satisfied: widgetsnbextension~=3.5.0 in c:\\users\\rasimemirdagi\\anaconda3\\lib\\site-packages (from ipywidgets->jupyter->d2l==1.0.0a1.post0) (3.5.1)\n",
      "Requirement already satisfied: nbformat>=4.2.0 in c:\\users\\rasimemirdagi\\anaconda3\\lib\\site-packages (from ipywidgets->jupyter->d2l==1.0.0a1.post0) (5.1.3)\n",
      "Requirement already satisfied: jupyterlab-widgets>=1.0.0 in c:\\users\\rasimemirdagi\\anaconda3\\lib\\site-packages (from ipywidgets->jupyter->d2l==1.0.0a1.post0) (1.0.0)\n",
      "Requirement already satisfied: jsonschema!=2.5.0,>=2.4 in c:\\users\\rasimemirdagi\\anaconda3\\lib\\site-packages (from nbformat>=4.2.0->ipywidgets->jupyter->d2l==1.0.0a1.post0) (3.2.0)\n",
      "Requirement already satisfied: attrs>=17.4.0 in c:\\users\\rasimemirdagi\\anaconda3\\lib\\site-packages (from jsonschema!=2.5.0,>=2.4->nbformat>=4.2.0->ipywidgets->jupyter->d2l==1.0.0a1.post0) (21.2.0)\n",
      "Requirement already satisfied: pyrsistent>=0.14.0 in c:\\users\\rasimemirdagi\\anaconda3\\lib\\site-packages (from jsonschema!=2.5.0,>=2.4->nbformat>=4.2.0->ipywidgets->jupyter->d2l==1.0.0a1.post0) (0.18.0)\n",
      "Requirement already satisfied: Send2Trash>=1.5.0 in c:\\users\\rasimemirdagi\\anaconda3\\lib\\site-packages (from notebook->jupyter->d2l==1.0.0a1.post0) (1.8.0)\n",
      "Requirement already satisfied: argon2-cffi in c:\\users\\rasimemirdagi\\anaconda3\\lib\\site-packages (from notebook->jupyter->d2l==1.0.0a1.post0) (20.1.0)\n",
      "Requirement already satisfied: terminado>=0.8.3 in c:\\users\\rasimemirdagi\\anaconda3\\lib\\site-packages (from notebook->jupyter->d2l==1.0.0a1.post0) (0.9.4)\n",
      "Requirement already satisfied: prometheus-client in c:\\users\\rasimemirdagi\\anaconda3\\lib\\site-packages (from notebook->jupyter->d2l==1.0.0a1.post0) (0.11.0)\n",
      "Requirement already satisfied: jinja2 in c:\\users\\rasimemirdagi\\anaconda3\\lib\\site-packages (from notebook->jupyter->d2l==1.0.0a1.post0) (2.11.3)\n",
      "Requirement already satisfied: pywinpty>=0.5 in c:\\users\\rasimemirdagi\\anaconda3\\lib\\site-packages (from terminado>=0.8.3->notebook->jupyter->d2l==1.0.0a1.post0) (0.5.7)\n",
      "Requirement already satisfied: cffi>=1.0.0 in c:\\users\\rasimemirdagi\\anaconda3\\lib\\site-packages (from argon2-cffi->notebook->jupyter->d2l==1.0.0a1.post0) (1.14.6)\n",
      "Requirement already satisfied: pycparser in c:\\users\\rasimemirdagi\\anaconda3\\lib\\site-packages (from cffi>=1.0.0->argon2-cffi->notebook->jupyter->d2l==1.0.0a1.post0) (2.20)\n",
      "Requirement already satisfied: MarkupSafe>=0.23 in c:\\users\\rasimemirdagi\\anaconda3\\lib\\site-packages (from jinja2->notebook->jupyter->d2l==1.0.0a1.post0) (1.1.1)\n",
      "Requirement already satisfied: pillow>=6.2.0 in c:\\users\\rasimemirdagi\\anaconda3\\lib\\site-packages (from matplotlib->d2l==1.0.0a1.post0) (8.4.0)\n",
      "Requirement already satisfied: cycler>=0.10 in c:\\users\\rasimemirdagi\\anaconda3\\lib\\site-packages (from matplotlib->d2l==1.0.0a1.post0) (0.10.0)\n",
      "Requirement already satisfied: kiwisolver>=1.0.1 in c:\\users\\rasimemirdagi\\anaconda3\\lib\\site-packages (from matplotlib->d2l==1.0.0a1.post0) (1.3.1)\n",
      "Requirement already satisfied: pyparsing>=2.2.1 in c:\\users\\rasimemirdagi\\anaconda3\\lib\\site-packages (from matplotlib->d2l==1.0.0a1.post0) (3.0.4)\n",
      "Requirement already satisfied: mistune<2,>=0.8.1 in c:\\users\\rasimemirdagi\\anaconda3\\lib\\site-packages (from nbconvert->jupyter->d2l==1.0.0a1.post0) (0.8.4)\n",
      "Requirement already satisfied: pandocfilters>=1.4.1 in c:\\users\\rasimemirdagi\\anaconda3\\lib\\site-packages (from nbconvert->jupyter->d2l==1.0.0a1.post0) (1.4.3)\n",
      "Requirement already satisfied: testpath in c:\\users\\rasimemirdagi\\anaconda3\\lib\\site-packages (from nbconvert->jupyter->d2l==1.0.0a1.post0) (0.5.0)\n",
      "Requirement already satisfied: nbclient<0.6.0,>=0.5.0 in c:\\users\\rasimemirdagi\\anaconda3\\lib\\site-packages (from nbconvert->jupyter->d2l==1.0.0a1.post0) (0.5.3)\n",
      "Requirement already satisfied: bleach in c:\\users\\rasimemirdagi\\anaconda3\\lib\\site-packages (from nbconvert->jupyter->d2l==1.0.0a1.post0) (4.0.0)\n",
      "Requirement already satisfied: jupyterlab-pygments in c:\\users\\rasimemirdagi\\anaconda3\\lib\\site-packages (from nbconvert->jupyter->d2l==1.0.0a1.post0) (0.1.2)\n",
      "Requirement already satisfied: entrypoints>=0.2.2 in c:\\users\\rasimemirdagi\\anaconda3\\lib\\site-packages (from nbconvert->jupyter->d2l==1.0.0a1.post0) (0.3)\n",
      "Requirement already satisfied: defusedxml in c:\\users\\rasimemirdagi\\anaconda3\\lib\\site-packages (from nbconvert->jupyter->d2l==1.0.0a1.post0) (0.7.1)\n",
      "Requirement already satisfied: nest-asyncio in c:\\users\\rasimemirdagi\\anaconda3\\lib\\site-packages (from nbclient<0.6.0,>=0.5.0->nbconvert->jupyter->d2l==1.0.0a1.post0) (1.5.1)\n",
      "Requirement already satisfied: async-generator in c:\\users\\rasimemirdagi\\anaconda3\\lib\\site-packages (from nbclient<0.6.0,>=0.5.0->nbconvert->jupyter->d2l==1.0.0a1.post0) (1.10)\n",
      "Requirement already satisfied: webencodings in c:\\users\\rasimemirdagi\\anaconda3\\lib\\site-packages (from bleach->nbconvert->jupyter->d2l==1.0.0a1.post0) (0.5.1)\n",
      "Requirement already satisfied: packaging in c:\\users\\rasimemirdagi\\anaconda3\\lib\\site-packages (from bleach->nbconvert->jupyter->d2l==1.0.0a1.post0) (21.0)\n",
      "Requirement already satisfied: pytz>=2017.3 in c:\\users\\rasimemirdagi\\anaconda3\\lib\\site-packages (from pandas->d2l==1.0.0a1.post0) (2021.3)\n",
      "Requirement already satisfied: qtpy in c:\\users\\rasimemirdagi\\anaconda3\\lib\\site-packages (from qtconsole->jupyter->d2l==1.0.0a1.post0) (1.10.0)\n",
      "Requirement already satisfied: certifi>=2017.4.17 in c:\\users\\rasimemirdagi\\anaconda3\\lib\\site-packages (from requests->d2l==1.0.0a1.post0) (2022.6.15)\n",
      "Requirement already satisfied: charset-normalizer~=2.0.0 in c:\\users\\rasimemirdagi\\anaconda3\\lib\\site-packages (from requests->d2l==1.0.0a1.post0) (2.0.4)\n",
      "Requirement already satisfied: urllib3<1.27,>=1.21.1 in c:\\users\\rasimemirdagi\\anaconda3\\lib\\site-packages (from requests->d2l==1.0.0a1.post0) (1.26.7)\n",
      "Requirement already satisfied: idna<4,>=2.5 in c:\\users\\rasimemirdagi\\anaconda3\\lib\\site-packages (from requests->d2l==1.0.0a1.post0) (3.2)\n"
     ]
    }
   ],
   "source": [
    "!pip install d2l==1.0.0a1.post0"
   ]
  },
  {
   "cell_type": "code",
   "execution_count": 5,
   "id": "4c507da2",
   "metadata": {},
   "outputs": [
    {
     "name": "stdout",
     "output_type": "stream",
     "text": [
      "Collecting torchmetrics\n",
      "  Downloading torchmetrics-0.11.0-py3-none-any.whl (512 kB)\n",
      "Requirement already satisfied: packaging in c:\\users\\rasimemirdagi\\anaconda3\\lib\\site-packages (from torchmetrics) (21.0)\n",
      "Requirement already satisfied: numpy>=1.17.2 in c:\\users\\rasimemirdagi\\anaconda3\\lib\\site-packages (from torchmetrics) (1.21.5)\n",
      "Requirement already satisfied: torch>=1.8.1 in c:\\users\\rasimemirdagi\\anaconda3\\lib\\site-packages (from torchmetrics) (1.13.0)\n",
      "Requirement already satisfied: typing-extensions in c:\\users\\rasimemirdagi\\anaconda3\\lib\\site-packages (from torch>=1.8.1->torchmetrics) (3.10.0.2)\n",
      "Requirement already satisfied: pyparsing>=2.0.2 in c:\\users\\rasimemirdagi\\anaconda3\\lib\\site-packages (from packaging->torchmetrics) (3.0.4)\n",
      "Installing collected packages: torchmetrics\n",
      "Successfully installed torchmetrics-0.11.0\n"
     ]
    }
   ],
   "source": [
    "!pip install torchmetrics"
   ]
  },
  {
   "cell_type": "code",
   "execution_count": 1,
   "id": "5605a6fc",
   "metadata": {},
   "outputs": [],
   "source": [
    "\n",
    "import os\n",
    "\n",
    "import joblib as jb\n",
    "import matplotlib.pyplot as plt\n",
    "import numpy as np\n",
    "import pandas as pd\n",
    "import torch\n",
    "import torchvision\n",
    "from d2l import torch as d2l\n",
    "from torch import nn\n",
    "from torchmetrics import R2Score\n",
    "from torchsummary import summary"
   ]
  },
  {
   "cell_type": "code",
   "execution_count": 2,
   "id": "a6923a13",
   "metadata": {},
   "outputs": [],
   "source": [
    "\n",
    "class _SepConv1d(nn.Module):\n",
    "    \"\"\"A simple separable convolution implementation.\n",
    "\n",
    "    The separable convlution is a method to reduce number of the parameters \n",
    "    in the deep learning network for slight decrease in predictions quality.\n",
    "    \"\"\"\n",
    "\n",
    "    def __init__(self, ni, no, kernel, stride, pad):\n",
    "        super().__init__()\n",
    "        self.depthwise = nn.Conv1d(\n",
    "            ni, ni, kernel, stride, padding=pad, groups=ni)\n",
    "        self.pointwise = nn.Conv1d(ni, no, kernel_size=1)\n",
    "\n",
    "    def forward(self, x):\n",
    "        return self.pointwise(self.depthwise(x))\n"
   ]
  },
  {
   "cell_type": "code",
   "execution_count": 3,
   "id": "1141e770",
   "metadata": {},
   "outputs": [],
   "source": [
    "class SepConv1d(nn.Module):\n",
    "    \"\"\"Implementes a 1-d convolution with 'batteries included'.\n",
    "\n",
    "    The module adds (optionally) activation function and dropout layers right after\n",
    "    a separable convolution layer.\n",
    "    \"\"\"\n",
    "\n",
    "    def __init__(self, ni, no, kernel, stride, pad, drop=None,\n",
    "                 activ=lambda: nn.ReLU(inplace=True)):\n",
    "\n",
    "        super().__init__()\n",
    "        assert drop is None or (0.0 < drop < 1.0)\n",
    "        layers = [_SepConv1d(ni, no, kernel, stride, pad)]\n",
    "        if activ:\n",
    "            layers.append(activ())\n",
    "        if drop is not None:\n",
    "            layers.append(nn.Dropout(drop))\n",
    "        self.layers = nn.Sequential(*layers)\n",
    "\n",
    "    def forward(self, x):\n",
    "        return self.layers(x)\n"
   ]
  },
  {
   "cell_type": "code",
   "execution_count": 4,
   "id": "c49c825a",
   "metadata": {},
   "outputs": [],
   "source": [
    "\n",
    "class Flatten(nn.Module):\n",
    "    \"\"\"Converts N-dimensional tensor into 'flat' one.\"\"\"\n",
    "\n",
    "    def __init__(self, keep_batch_dim=True):\n",
    "        super().__init__()\n",
    "        self.keep_batch_dim = keep_batch_dim\n",
    "\n",
    "    def forward(self, x):\n",
    "        if self.keep_batch_dim:\n",
    "            return x.view(x.size(0), -1)\n",
    "        return x.view(-1)\n"
   ]
  },
  {
   "cell_type": "code",
   "execution_count": 5,
   "id": "3a68cb8a",
   "metadata": {},
   "outputs": [],
   "source": [
    "\n",
    "class Classifier(nn.Module):\n",
    "    def __init__(self, raw_ni, no, drop=.5):\n",
    "        super().__init__()\n",
    "\n",
    "        self.net = nn.Sequential(\n",
    "            # nn.Flatten(),\n",
    "            nn.Linear(raw_ni, 2048),\n",
    "            nn.Sigmoid(),\n",
    "            nn.Linear(2048, 2048),\n",
    "            nn.Sigmoid(),\n",
    "            nn.Linear(2048, 2048),\n",
    "            nn.Sigmoid(),\n",
    "            nn.Linear(2048, no),\n",
    "        )\n",
    "\n",
    "    def forward(self, x):\n",
    "        out = self.net(x)\n",
    "        return out\n"
   ]
  },
  {
   "cell_type": "code",
   "execution_count": 6,
   "id": "fa67d3e6",
   "metadata": {},
   "outputs": [],
   "source": [
    "# Calculating the loss\n",
    "# loss = nn.CrossEntropyLoss(reduction='none')\n",
    "loss = nn.MSELoss(reduction='none')\n",
    "\n",
    "\n",
    "def evaluate_loss(data_iter, net, devices):\n",
    "    l_sum, n = 0.0, 0\n",
    "    for features, labels in data_iter:\n",
    "        features, labels = features.to(devices[0]), labels.to(devices[0])\n",
    "        outputs = net(features)\n",
    "        l = loss(outputs, labels)\n",
    "        l_sum += l.sum()\n",
    "        n += labels.numel()\n",
    "    return l_sum / n\n"
   ]
  },
  {
   "cell_type": "code",
   "execution_count": 7,
   "id": "66311fb2",
   "metadata": {},
   "outputs": [],
   "source": [
    "spo2_vals = jb.load('strided_dataset_spo2_vals.pk')"
   ]
  },
  {
   "cell_type": "code",
   "execution_count": 8,
   "id": "3e7c156b",
   "metadata": {},
   "outputs": [],
   "source": [
    "stride_dataset = jb.load('strided_dataset.pk')"
   ]
  },
  {
   "cell_type": "code",
   "execution_count": 9,
   "id": "37b4e681",
   "metadata": {},
   "outputs": [],
   "source": [
    "dataset = pd.DataFrame.from_dict(stride_dataset).transpose()\n"
   ]
  },
  {
   "cell_type": "code",
   "execution_count": 10,
   "id": "2125e01c",
   "metadata": {},
   "outputs": [],
   "source": [
    "dataset_spo2 = pd.DataFrame.from_dict(spo2_vals).transpose()"
   ]
  },
  {
   "cell_type": "code",
   "execution_count": 11,
   "id": "40531334",
   "metadata": {},
   "outputs": [],
   "source": [
    "dataset_spo2 = dataset_spo2/100"
   ]
  },
  {
   "cell_type": "code",
   "execution_count": 12,
   "id": "b2abee97",
   "metadata": {},
   "outputs": [],
   "source": [
    "X_train, X_valid, X_test = np.split(dataset.sample(\n",
    "    frac=1), [int(.8*len(dataset)), int(.9*len(dataset))])\n",
    "y_train, y_valid, y_test = dataset_spo2.loc[X_train.index], dataset_spo2.loc[\n",
    "    X_valid.index], dataset_spo2.loc[X_test.index]\n"
   ]
  },
  {
   "cell_type": "code",
   "execution_count": 13,
   "id": "648ac1d8",
   "metadata": {},
   "outputs": [],
   "source": [
    "# unroll the data\n",
    "X_train_unrolled = []\n",
    "y_train_unrolled = []\n",
    "for r in X_train.index:\n",
    "    for c in X_train.columns:\n",
    "        # skip values containing NaN\n",
    "        if not np.isnan(X_train.loc[r][c]).any() and not np.isnan(y_train.loc[r][c]):\n",
    "            X_train_unrolled.append(X_train.loc[r][c])\n",
    "            y_train_unrolled.append(y_train.loc[r][c])\n",
    "\n",
    "X_valid_unrolled = []\n",
    "y_valid_unrolled = []\n",
    "for r in X_valid.index:\n",
    "    for c in X_valid.columns:\n",
    "        # skip values containing NaN\n",
    "        if not np.isnan(X_valid.loc[r][c]).any() and not np.isnan(y_valid.loc[r][c]):\n",
    "            X_valid_unrolled.append(X_valid.loc[r][c])\n",
    "            y_valid_unrolled.append(y_valid.loc[r][c])\n",
    "\n",
    "X_test_unrolled = []\n",
    "y_test_unrolled = []\n",
    "for r in X_test.index:\n",
    "    for c in X_test.columns:\n",
    "        # skip values containing NaN\n",
    "        if not np.isnan(X_test.loc[r][c]).any() and not np.isnan(y_test.loc[r][c]):\n",
    "            X_test_unrolled.append(X_test.loc[r][c])\n",
    "            y_test_unrolled.append(y_test.loc[r][c])\n"
   ]
  },
  {
   "cell_type": "code",
   "execution_count": 14,
   "id": "e629135e",
   "metadata": {},
   "outputs": [
    {
     "name": "stderr",
     "output_type": "stream",
     "text": [
      "C:\\Users\\RASIME~1\\AppData\\Local\\Temp/ipykernel_14228/997760739.py:2: UserWarning: Creating a tensor from a list of numpy.ndarrays is extremely slow. Please consider converting the list to a single numpy.ndarray with numpy.array() before converting to a tensor. (Triggered internally at C:\\actions-runner\\_work\\pytorch\\pytorch\\builder\\windows\\pytorch\\torch\\csrc\\utils\\tensor_new.cpp:233.)\n",
      "  X_train, y_train = torch.tensor(X_train_unrolled, dtype=torch.float32), torch.tensor(\n"
     ]
    }
   ],
   "source": [
    "# convert to tensors\n",
    "X_train, y_train = torch.tensor(X_train_unrolled, dtype=torch.float32), torch.tensor(\n",
    "    y_train_unrolled, dtype=torch.float32)\n",
    "X_valid, y_valid = torch.tensor(X_valid_unrolled, dtype=torch.float32), torch.tensor(\n",
    "    y_valid_unrolled, dtype=torch.float32)\n",
    "X_test, y_test = torch.tensor(X_test_unrolled, dtype=torch.float32), torch.tensor(\n",
    "    y_test_unrolled, dtype=torch.float32)"
   ]
  },
  {
   "cell_type": "code",
   "execution_count": 15,
   "id": "d6b78007",
   "metadata": {},
   "outputs": [],
   "source": [
    "# reshape y tensors\n",
    "y_train = y_train.reshape(-1, 1)\n",
    "y_valid = y_valid.reshape(-1, 1)\n",
    "y_test = y_test.reshape(-1, 1)"
   ]
  },
  {
   "cell_type": "code",
   "execution_count": 16,
   "id": "0deb285f",
   "metadata": {},
   "outputs": [],
   "source": [
    "# normalize x data\n",
    "X_train_mean = X_train.mean()\n",
    "X_train_std = X_train.std()\n",
    "X_train = (X_train - X_train_mean) / (X_train_std + 1e-7)\n",
    "\n",
    "X_valid_mean = X_valid.mean()\n",
    "X_valid_std = X_valid.std()\n",
    "X_valid = (X_valid - X_valid_mean) / (X_valid_std + 1e-7)\n",
    "\n",
    "X_test_mean = X_test.mean()\n",
    "X_test_std = X_test.std()\n",
    "X_test = (X_test - X_test_mean) / (X_test_std + 1e-7)"
   ]
  },
  {
   "cell_type": "code",
   "execution_count": 17,
   "id": "9792b35d",
   "metadata": {},
   "outputs": [],
   "source": [
    "# convert to torch iterators\n",
    "batch_size = 64\n",
    "train_iter = torch.utils.data.DataLoader(torch.utils.data.TensorDataset(\n",
    "    X_train, y_train), batch_size=batch_size, shuffle=True)\n",
    "valid_iter = torch.utils.data.DataLoader(torch.utils.data.TensorDataset(\n",
    "    X_valid, y_valid), batch_size=batch_size, shuffle=True)\n",
    "test_iter = torch.utils.data.DataLoader(torch.utils.data.TensorDataset(\n",
    "    X_test, y_test), batch_size=batch_size, shuffle=True)"
   ]
  },
  {
   "cell_type": "code",
   "execution_count": 18,
   "id": "c3053ee2",
   "metadata": {},
   "outputs": [],
   "source": [
    "\n",
    "num_epochs = 10\n",
    "lr, wd = 1e-4, 1e-4\n",
    "lr_period, lr_decay = 2, 0.9\n"
   ]
  },
  {
   "cell_type": "code",
   "execution_count": 19,
   "id": "83402aeb",
   "metadata": {},
   "outputs": [],
   "source": [
    "device = torch.device('cuda' if torch.cuda.is_available() else 'cpu')"
   ]
  },
  {
   "cell_type": "code",
   "execution_count": 20,
   "id": "b1d6e1e3",
   "metadata": {},
   "outputs": [],
   "source": [
    "model = Classifier(240,1).to(device)\n",
    "#Setting the loss function\n",
    "cost = nn.MSELoss()\n",
    "\n",
    "#Setting the optimizer with the model parameters and learning rate\n",
    "optimizer = torch.optim.Adam(model.parameters(), lr=lr)\n",
    "\n",
    "#this is defined to print how many steps are remaining when training\n",
    "total_step = len(train_iter)"
   ]
  },
  {
   "cell_type": "code",
   "execution_count": 21,
   "id": "604ac356",
   "metadata": {},
   "outputs": [
    {
     "name": "stdout",
     "output_type": "stream",
     "text": [
      "----------------------------------------------------------------\n",
      "        Layer (type)               Output Shape         Param #\n",
      "================================================================\n",
      "            Linear-1              [-1, 1, 2048]         493,568\n",
      "           Sigmoid-2              [-1, 1, 2048]               0\n",
      "            Linear-3              [-1, 1, 2048]       4,196,352\n",
      "           Sigmoid-4              [-1, 1, 2048]               0\n",
      "            Linear-5              [-1, 1, 2048]       4,196,352\n",
      "           Sigmoid-6              [-1, 1, 2048]               0\n",
      "            Linear-7                 [-1, 1, 1]           2,049\n",
      "================================================================\n",
      "Total params: 8,888,321\n",
      "Trainable params: 8,888,321\n",
      "Non-trainable params: 0\n",
      "----------------------------------------------------------------\n",
      "Input size (MB): 0.00\n",
      "Forward/backward pass size (MB): 0.09\n",
      "Params size (MB): 33.91\n",
      "Estimated Total Size (MB): 34.00\n",
      "----------------------------------------------------------------\n"
     ]
    }
   ],
   "source": [
    "summary(model,(1,240))"
   ]
  },
  {
   "cell_type": "code",
   "execution_count": null,
   "id": "0e90a9a0",
   "metadata": {},
   "outputs": [
    {
     "name": "stdout",
     "output_type": "stream",
     "text": [
      "The Loss value with the epoch: 0 is equal to 1.0747581720352173\n",
      "The Loss value with the epoch: 1 is equal to 1.0436924695968628\n",
      "The Loss value with the epoch: 2 is equal to 1.0493390560150146\n",
      "The Loss value with the epoch: 3 is equal to 1.0517579317092896\n",
      "The Loss value with the epoch: 4 is equal to 1.0657670497894287\n",
      "The Loss value with the epoch: 5 is equal to 1.0526553392410278\n",
      "The Loss value with the epoch: 6 is equal to 1.0405874252319336\n",
      "The Loss value with the epoch: 7 is equal to 1.0383636951446533\n"
     ]
    }
   ],
   "source": [
    "for epoch in range(250):\n",
    "    for i, (features, labels) in enumerate(train_iter):\n",
    "        features = features.to(device)\n",
    "        labels = labels.to(device)\n",
    "        outputs = model(features)\n",
    "        loss = cost(outputs, labels)\n",
    "    print(\"The Loss value with the epoch: \" + str(epoch) + \" is equal to \" + str(loss.item()))\n",
    "\n"
   ]
  },
  {
   "cell_type": "code",
   "execution_count": null,
   "id": "b6ed935f",
   "metadata": {},
   "outputs": [],
   "source": []
  }
 ],
 "metadata": {
  "kernelspec": {
   "display_name": "Python 3 (ipykernel)",
   "language": "python",
   "name": "python3"
  },
  "language_info": {
   "codemirror_mode": {
    "name": "ipython",
    "version": 3
   },
   "file_extension": ".py",
   "mimetype": "text/x-python",
   "name": "python",
   "nbconvert_exporter": "python",
   "pygments_lexer": "ipython3",
   "version": "3.9.7"
  }
 },
 "nbformat": 4,
 "nbformat_minor": 5
}
