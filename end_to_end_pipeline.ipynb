{
  "cells": [
    {
      "cell_type": "code",
      "execution_count": 313,
      "id": "0HTfOspHQfGD",
      "metadata": {
        "id": "0HTfOspHQfGD"
      },
      "outputs": [
        {
          "name": "stdout",
          "output_type": "stream",
          "text": [
            "Requirement already satisfied: d2l==1.0.0a1.post0 in c:\\users\\maxim\\appdata\\local\\programs\\python\\python39\\lib\\site-packages (1.0.0a1.post0)\n",
            "Requirement already satisfied: numpy in c:\\users\\maxim\\appdata\\local\\programs\\python\\python39\\lib\\site-packages (from d2l==1.0.0a1.post0) (1.23.1)\n",
            "Requirement already satisfied: matplotlib in c:\\users\\maxim\\appdata\\local\\programs\\python\\python39\\lib\\site-packages (from d2l==1.0.0a1.post0) (3.5.2)\n",
            "Requirement already satisfied: pandas in c:\\users\\maxim\\appdata\\local\\programs\\python\\python39\\lib\\site-packages (from d2l==1.0.0a1.post0) (1.5.0)\n",
            "Requirement already satisfied: gym in c:\\users\\maxim\\appdata\\local\\programs\\python\\python39\\lib\\site-packages (from d2l==1.0.0a1.post0) (0.26.2)\n",
            "Requirement already satisfied: requests in c:\\users\\maxim\\appdata\\local\\programs\\python\\python39\\lib\\site-packages (from d2l==1.0.0a1.post0) (2.27.1)\n",
            "Requirement already satisfied: matplotlib-inline in c:\\users\\maxim\\appdata\\local\\programs\\python\\python39\\lib\\site-packages (from d2l==1.0.0a1.post0) (0.1.2)\n",
            "Requirement already satisfied: jupyter in c:\\users\\maxim\\appdata\\local\\programs\\python\\python39\\lib\\site-packages (from d2l==1.0.0a1.post0) (1.0.0)\n",
            "Requirement already satisfied: cloudpickle>=1.2.0 in c:\\users\\maxim\\appdata\\local\\programs\\python\\python39\\lib\\site-packages (from gym->d2l==1.0.0a1.post0) (2.2.0)\n",
            "Requirement already satisfied: gym-notices>=0.0.4 in c:\\users\\maxim\\appdata\\local\\programs\\python\\python39\\lib\\site-packages (from gym->d2l==1.0.0a1.post0) (0.0.8)\n",
            "Requirement already satisfied: importlib-metadata>=4.8.0 in c:\\users\\maxim\\appdata\\local\\programs\\python\\python39\\lib\\site-packages (from gym->d2l==1.0.0a1.post0) (4.8.2)\n",
            "Requirement already satisfied: jupyter-console in c:\\users\\maxim\\appdata\\local\\programs\\python\\python39\\lib\\site-packages (from jupyter->d2l==1.0.0a1.post0) (6.4.0)\n",
            "Requirement already satisfied: notebook in c:\\users\\maxim\\appdata\\local\\programs\\python\\python39\\lib\\site-packages (from jupyter->d2l==1.0.0a1.post0) (6.4.0)\n",
            "Requirement already satisfied: ipykernel in c:\\users\\maxim\\appdata\\local\\programs\\python\\python39\\lib\\site-packages (from jupyter->d2l==1.0.0a1.post0) (6.0.1)\n",
            "Requirement already satisfied: ipywidgets in c:\\users\\maxim\\appdata\\local\\programs\\python\\python39\\lib\\site-packages (from jupyter->d2l==1.0.0a1.post0) (7.6.3)\n",
            "Requirement already satisfied: qtconsole in c:\\users\\maxim\\appdata\\local\\programs\\python\\python39\\lib\\site-packages (from jupyter->d2l==1.0.0a1.post0) (5.1.1)\n",
            "Requirement already satisfied: nbconvert in c:\\users\\maxim\\appdata\\local\\programs\\python\\python39\\lib\\site-packages (from jupyter->d2l==1.0.0a1.post0) (6.1.0)\n",
            "Requirement already satisfied: pyparsing>=2.2.1 in c:\\users\\maxim\\appdata\\roaming\\python\\python39\\site-packages (from matplotlib->d2l==1.0.0a1.post0) (2.4.7)\n",
            "Requirement already satisfied: kiwisolver>=1.0.1 in c:\\users\\maxim\\appdata\\local\\programs\\python\\python39\\lib\\site-packages (from matplotlib->d2l==1.0.0a1.post0) (1.3.1)\n",
            "Requirement already satisfied: python-dateutil>=2.7 in c:\\users\\maxim\\appdata\\local\\programs\\python\\python39\\lib\\site-packages (from matplotlib->d2l==1.0.0a1.post0) (2.8.1)\n",
            "Requirement already satisfied: fonttools>=4.22.0 in c:\\users\\maxim\\appdata\\local\\programs\\python\\python39\\lib\\site-packages (from matplotlib->d2l==1.0.0a1.post0) (4.33.3)\n",
            "Requirement already satisfied: packaging>=20.0 in c:\\users\\maxim\\appdata\\roaming\\python\\python39\\site-packages (from matplotlib->d2l==1.0.0a1.post0) (20.9)\n",
            "Requirement already satisfied: cycler>=0.10 in c:\\users\\maxim\\appdata\\local\\programs\\python\\python39\\lib\\site-packages (from matplotlib->d2l==1.0.0a1.post0) (0.10.0)\n",
            "Requirement already satisfied: pillow>=6.2.0 in c:\\users\\maxim\\appdata\\local\\programs\\python\\python39\\lib\\site-packages (from matplotlib->d2l==1.0.0a1.post0) (9.3.0)\n",
            "Requirement already satisfied: traitlets in c:\\users\\maxim\\appdata\\local\\programs\\python\\python39\\lib\\site-packages (from matplotlib-inline->d2l==1.0.0a1.post0) (5.0.5)\n",
            "Requirement already satisfied: pytz>=2020.1 in c:\\users\\maxim\\appdata\\local\\programs\\python\\python39\\lib\\site-packages (from pandas->d2l==1.0.0a1.post0) (2021.1)\n",
            "Requirement already satisfied: certifi>=2017.4.17 in c:\\users\\maxim\\appdata\\local\\programs\\python\\python39\\lib\\site-packages (from requests->d2l==1.0.0a1.post0) (2022.6.15)\n",
            "Requirement already satisfied: idna<4,>=2.5 in c:\\users\\maxim\\appdata\\local\\programs\\python\\python39\\lib\\site-packages (from requests->d2l==1.0.0a1.post0) (2.10)\n",
            "Requirement already satisfied: charset-normalizer~=2.0.0 in c:\\users\\maxim\\appdata\\local\\programs\\python\\python39\\lib\\site-packages (from requests->d2l==1.0.0a1.post0) (2.0.12)\n",
            "Requirement already satisfied: urllib3<1.27,>=1.21.1 in c:\\users\\maxim\\appdata\\local\\programs\\python\\python39\\lib\\site-packages (from requests->d2l==1.0.0a1.post0) (1.26.4)\n",
            "Requirement already satisfied: six in c:\\users\\maxim\\appdata\\local\\programs\\python\\python39\\lib\\site-packages (from cycler>=0.10->matplotlib->d2l==1.0.0a1.post0) (1.16.0)\n",
            "Requirement already satisfied: zipp>=0.5 in c:\\users\\maxim\\appdata\\local\\programs\\python\\python39\\lib\\site-packages (from importlib-metadata>=4.8.0->gym->d2l==1.0.0a1.post0) (3.6.0)\n",
            "Requirement already satisfied: tornado>=4.2 in c:\\users\\maxim\\appdata\\local\\programs\\python\\python39\\lib\\site-packages (from ipykernel->jupyter->d2l==1.0.0a1.post0) (6.1)\n",
            "Requirement already satisfied: ipython>=7.23.1 in c:\\users\\maxim\\appdata\\local\\programs\\python\\python39\\lib\\site-packages (from ipykernel->jupyter->d2l==1.0.0a1.post0) (7.25.0)\n",
            "Requirement already satisfied: debugpy>=1.0.0 in c:\\users\\maxim\\appdata\\local\\programs\\python\\python39\\lib\\site-packages (from ipykernel->jupyter->d2l==1.0.0a1.post0) (1.3.0)\n",
            "Requirement already satisfied: jupyter-client in c:\\users\\maxim\\appdata\\local\\programs\\python\\python39\\lib\\site-packages (from ipykernel->jupyter->d2l==1.0.0a1.post0) (6.1.12)\n",
            "Requirement already satisfied: ipython-genutils in c:\\users\\maxim\\appdata\\local\\programs\\python\\python39\\lib\\site-packages (from traitlets->matplotlib-inline->d2l==1.0.0a1.post0) (0.2.0)\n",
            "Requirement already satisfied: jupyterlab-widgets>=1.0.0 in c:\\users\\maxim\\appdata\\local\\programs\\python\\python39\\lib\\site-packages (from ipywidgets->jupyter->d2l==1.0.0a1.post0) (1.0.0)\n",
            "Requirement already satisfied: widgetsnbextension~=3.5.0 in c:\\users\\maxim\\appdata\\local\\programs\\python\\python39\\lib\\site-packages (from ipywidgets->jupyter->d2l==1.0.0a1.post0) (3.5.1)\n",
            "Requirement already satisfied: nbformat>=4.2.0 in c:\\users\\maxim\\appdata\\local\\programs\\python\\python39\\lib\\site-packages (from ipywidgets->jupyter->d2l==1.0.0a1.post0) (5.1.3)\n",
            "Requirement already satisfied: prompt-toolkit!=3.0.0,!=3.0.1,<3.1.0,>=2.0.0 in c:\\users\\maxim\\appdata\\local\\programs\\python\\python39\\lib\\site-packages (from jupyter-console->jupyter->d2l==1.0.0a1.post0) (3.0.19)\n",
            "Requirement already satisfied: pygments in c:\\users\\maxim\\appdata\\local\\programs\\python\\python39\\lib\\site-packages (from jupyter-console->jupyter->d2l==1.0.0a1.post0) (2.9.0)\n",
            "Requirement already satisfied: testpath in c:\\users\\maxim\\appdata\\local\\programs\\python\\python39\\lib\\site-packages (from nbconvert->jupyter->d2l==1.0.0a1.post0) (0.5.0)\n",
            "Requirement already satisfied: entrypoints>=0.2.2 in c:\\users\\maxim\\appdata\\local\\programs\\python\\python39\\lib\\site-packages (from nbconvert->jupyter->d2l==1.0.0a1.post0) (0.3)\n",
            "Requirement already satisfied: jupyter-core in c:\\users\\maxim\\appdata\\local\\programs\\python\\python39\\lib\\site-packages (from nbconvert->jupyter->d2l==1.0.0a1.post0) (4.7.1)\n",
            "Requirement already satisfied: bleach in c:\\users\\maxim\\appdata\\local\\programs\\python\\python39\\lib\\site-packages (from nbconvert->jupyter->d2l==1.0.0a1.post0) (3.3.0)\n",
            "Requirement already satisfied: defusedxml in c:\\users\\maxim\\appdata\\local\\programs\\python\\python39\\lib\\site-packages (from nbconvert->jupyter->d2l==1.0.0a1.post0) (0.7.1)\n",
            "Requirement already satisfied: jupyterlab-pygments in c:\\users\\maxim\\appdata\\local\\programs\\python\\python39\\lib\\site-packages (from nbconvert->jupyter->d2l==1.0.0a1.post0) (0.1.2)\n",
            "Requirement already satisfied: jinja2>=2.4 in c:\\users\\maxim\\appdata\\local\\programs\\python\\python39\\lib\\site-packages (from nbconvert->jupyter->d2l==1.0.0a1.post0) (2.11.3)\n",
            "Requirement already satisfied: nbclient<0.6.0,>=0.5.0 in c:\\users\\maxim\\appdata\\local\\programs\\python\\python39\\lib\\site-packages (from nbconvert->jupyter->d2l==1.0.0a1.post0) (0.5.3)\n",
            "Requirement already satisfied: mistune<2,>=0.8.1 in c:\\users\\maxim\\appdata\\local\\programs\\python\\python39\\lib\\site-packages (from nbconvert->jupyter->d2l==1.0.0a1.post0) (0.8.4)\n",
            "Requirement already satisfied: pandocfilters>=1.4.1 in c:\\users\\maxim\\appdata\\local\\programs\\python\\python39\\lib\\site-packages (from nbconvert->jupyter->d2l==1.0.0a1.post0) (1.4.3)\n",
            "Requirement already satisfied: terminado>=0.8.3 in c:\\users\\maxim\\appdata\\local\\programs\\python\\python39\\lib\\site-packages (from notebook->jupyter->d2l==1.0.0a1.post0) (0.10.1)\n",
            "Requirement already satisfied: prometheus-client in c:\\users\\maxim\\appdata\\local\\programs\\python\\python39\\lib\\site-packages (from notebook->jupyter->d2l==1.0.0a1.post0) (0.11.0)\n",
            "Requirement already satisfied: pyzmq>=17 in c:\\users\\maxim\\appdata\\local\\programs\\python\\python39\\lib\\site-packages (from notebook->jupyter->d2l==1.0.0a1.post0) (22.1.0)\n",
            "Requirement already satisfied: argon2-cffi in c:\\users\\maxim\\appdata\\local\\programs\\python\\python39\\lib\\site-packages (from notebook->jupyter->d2l==1.0.0a1.post0) (20.1.0)\n",
            "Requirement already satisfied: Send2Trash>=1.5.0 in c:\\users\\maxim\\appdata\\local\\programs\\python\\python39\\lib\\site-packages (from notebook->jupyter->d2l==1.0.0a1.post0) (1.7.1)\n",
            "Requirement already satisfied: qtpy in c:\\users\\maxim\\appdata\\local\\programs\\python\\python39\\lib\\site-packages (from qtconsole->jupyter->d2l==1.0.0a1.post0) (1.9.0)\n",
            "Requirement already satisfied: colorama in c:\\users\\maxim\\appdata\\roaming\\python\\python39\\site-packages (from ipython>=7.23.1->ipykernel->jupyter->d2l==1.0.0a1.post0) (0.4.4)\n",
            "Requirement already satisfied: backcall in c:\\users\\maxim\\appdata\\local\\programs\\python\\python39\\lib\\site-packages (from ipython>=7.23.1->ipykernel->jupyter->d2l==1.0.0a1.post0) (0.2.0)\n",
            "Requirement already satisfied: setuptools>=18.5 in c:\\users\\maxim\\appdata\\local\\programs\\python\\python39\\lib\\site-packages (from ipython>=7.23.1->ipykernel->jupyter->d2l==1.0.0a1.post0) (49.2.1)\n",
            "Requirement already satisfied: pickleshare in c:\\users\\maxim\\appdata\\local\\programs\\python\\python39\\lib\\site-packages (from ipython>=7.23.1->ipykernel->jupyter->d2l==1.0.0a1.post0) (0.7.5)\n",
            "Requirement already satisfied: decorator in c:\\users\\maxim\\appdata\\local\\programs\\python\\python39\\lib\\site-packages (from ipython>=7.23.1->ipykernel->jupyter->d2l==1.0.0a1.post0) (5.0.9)\n",
            "Requirement already satisfied: jedi>=0.16 in c:\\users\\maxim\\appdata\\local\\programs\\python\\python39\\lib\\site-packages (from ipython>=7.23.1->ipykernel->jupyter->d2l==1.0.0a1.post0) (0.18.0)\n",
            "Requirement already satisfied: MarkupSafe>=0.23 in c:\\users\\maxim\\appdata\\local\\programs\\python\\python39\\lib\\site-packages (from jinja2>=2.4->nbconvert->jupyter->d2l==1.0.0a1.post0) (2.0.1)\n",
            "Requirement already satisfied: pywin32>=1.0 in c:\\users\\maxim\\appdata\\local\\programs\\python\\python39\\lib\\site-packages (from jupyter-core->nbconvert->jupyter->d2l==1.0.0a1.post0) (301)\n",
            "Requirement already satisfied: nest-asyncio in c:\\users\\maxim\\appdata\\local\\programs\\python\\python39\\lib\\site-packages (from nbclient<0.6.0,>=0.5.0->nbconvert->jupyter->d2l==1.0.0a1.post0) (1.3.3)\n",
            "Requirement already satisfied: async-generator in c:\\users\\maxim\\appdata\\local\\programs\\python\\python39\\lib\\site-packages (from nbclient<0.6.0,>=0.5.0->nbconvert->jupyter->d2l==1.0.0a1.post0) (1.10)\n",
            "Requirement already satisfied: jsonschema!=2.5.0,>=2.4 in c:\\users\\maxim\\appdata\\local\\programs\\python\\python39\\lib\\site-packages (from nbformat>=4.2.0->ipywidgets->jupyter->d2l==1.0.0a1.post0) (3.2.0)\n",
            "Requirement already satisfied: wcwidth in c:\\users\\maxim\\appdata\\local\\programs\\python\\python39\\lib\\site-packages (from prompt-toolkit!=3.0.0,!=3.0.1,<3.1.0,>=2.0.0->jupyter-console->jupyter->d2l==1.0.0a1.post0) (0.2.5)\n",
            "Requirement already satisfied: pywinpty>=1.1.0 in c:\\users\\maxim\\appdata\\local\\programs\\python\\python39\\lib\\site-packages (from terminado>=0.8.3->notebook->jupyter->d2l==1.0.0a1.post0) (1.1.3)\n",
            "Requirement already satisfied: cffi>=1.0.0 in c:\\users\\maxim\\appdata\\local\\programs\\python\\python39\\lib\\site-packages (from argon2-cffi->notebook->jupyter->d2l==1.0.0a1.post0) (1.14.5)\n",
            "Requirement already satisfied: webencodings in c:\\users\\maxim\\appdata\\local\\programs\\python\\python39\\lib\\site-packages (from bleach->nbconvert->jupyter->d2l==1.0.0a1.post0) (0.5.1)\n",
            "Requirement already satisfied: pycparser in c:\\users\\maxim\\appdata\\local\\programs\\python\\python39\\lib\\site-packages (from cffi>=1.0.0->argon2-cffi->notebook->jupyter->d2l==1.0.0a1.post0) (2.20)\n",
            "Requirement already satisfied: parso<0.9.0,>=0.8.0 in c:\\users\\maxim\\appdata\\local\\programs\\python\\python39\\lib\\site-packages (from jedi>=0.16->ipython>=7.23.1->ipykernel->jupyter->d2l==1.0.0a1.post0) (0.8.2)\n",
            "Requirement already satisfied: attrs>=17.4.0 in c:\\users\\maxim\\appdata\\local\\programs\\python\\python39\\lib\\site-packages (from jsonschema!=2.5.0,>=2.4->nbformat>=4.2.0->ipywidgets->jupyter->d2l==1.0.0a1.post0) (20.3.0)\n",
            "Requirement already satisfied: pyrsistent>=0.14.0 in c:\\users\\maxim\\appdata\\local\\programs\\python\\python39\\lib\\site-packages (from jsonschema!=2.5.0,>=2.4->nbformat>=4.2.0->ipywidgets->jupyter->d2l==1.0.0a1.post0) (0.18.0)\n"
          ]
        }
      ],
      "source": [
        "!pip install d2l==1.0.0a1.post0"
      ]
    },
    {
      "cell_type": "code",
      "execution_count": 352,
      "id": "af24c66b",
      "metadata": {
        "id": "af24c66b"
      },
      "outputs": [],
      "source": [
        "import os\n",
        "\n",
        "import joblib as jb\n",
        "import matplotlib.pyplot as plt\n",
        "import numpy as np\n",
        "import pandas as pd\n",
        "import torch\n",
        "import torchvision\n",
        "from d2l import torch as d2l\n",
        "from torch import nn\n",
        "from torchmetrics import R2Score\n"
      ]
    },
    {
      "cell_type": "markdown",
      "id": "c16d79e6",
      "metadata": {
        "id": "c16d79e6"
      },
      "source": [
        "## Model Definition"
      ]
    },
    {
      "cell_type": "code",
      "execution_count": 315,
      "id": "aea380ed",
      "metadata": {
        "id": "aea380ed"
      },
      "outputs": [],
      "source": [
        "class _SepConv1d(nn.Module):\n",
        "    \"\"\"A simple separable convolution implementation.\n",
        "\n",
        "    The separable convlution is a method to reduce number of the parameters \n",
        "    in the deep learning network for slight decrease in predictions quality.\n",
        "    \"\"\"\n",
        "\n",
        "    def __init__(self, ni, no, kernel, stride, pad):\n",
        "        super().__init__()\n",
        "        self.depthwise = nn.Conv1d(\n",
        "            ni, ni, kernel, stride, padding=pad, groups=ni)\n",
        "        self.pointwise = nn.Conv1d(ni, no, kernel_size=1)\n",
        "\n",
        "    def forward(self, x):\n",
        "        return self.pointwise(self.depthwise(x))\n"
      ]
    },
    {
      "cell_type": "code",
      "execution_count": 316,
      "id": "b10ad7bf",
      "metadata": {
        "id": "b10ad7bf"
      },
      "outputs": [],
      "source": [
        "class SepConv1d(nn.Module):\n",
        "    \"\"\"Implementes a 1-d convolution with 'batteries included'.\n",
        "\n",
        "    The module adds (optionally) activation function and dropout layers right after\n",
        "    a separable convolution layer.\n",
        "    \"\"\"\n",
        "\n",
        "    def __init__(self, ni, no, kernel, stride, pad, drop=None,\n",
        "                 activ=lambda: nn.ReLU(inplace=True)):\n",
        "\n",
        "        super().__init__()\n",
        "        assert drop is None or (0.0 < drop < 1.0)\n",
        "        layers = [_SepConv1d(ni, no, kernel, stride, pad)]\n",
        "        if activ:\n",
        "            layers.append(activ())\n",
        "        if drop is not None:\n",
        "            layers.append(nn.Dropout(drop))\n",
        "        self.layers = nn.Sequential(*layers)\n",
        "\n",
        "    def forward(self, x):\n",
        "        return self.layers(x)\n"
      ]
    },
    {
      "cell_type": "code",
      "execution_count": 317,
      "id": "099cd450",
      "metadata": {
        "id": "099cd450"
      },
      "outputs": [],
      "source": [
        "class Flatten(nn.Module):\n",
        "    \"\"\"Converts N-dimensional tensor into 'flat' one.\"\"\"\n",
        "\n",
        "    def __init__(self, keep_batch_dim=True):\n",
        "        super().__init__()\n",
        "        self.keep_batch_dim = keep_batch_dim\n",
        "\n",
        "    def forward(self, x):\n",
        "        if self.keep_batch_dim:\n",
        "            return x.view(x.size(0), -1)\n",
        "        return x.view(-1)\n"
      ]
    },
    {
      "cell_type": "code",
      "execution_count": 318,
      "id": "ca15a3ff",
      "metadata": {
        "colab": {
          "base_uri": "https://localhost:8080/",
          "height": 127
        },
        "id": "ca15a3ff",
        "outputId": "b47d9aff-239f-4573-a4cf-e96e13806e80"
      },
      "outputs": [
        {
          "data": {
            "text/plain": [
              "'\\n# EXPERIMENTAL\\nclass Classifier(nn.Module):\\n    def __init__(self, raw_ni, fft_ni, no, drop=.5):\\n        super().__init__()\\n\\n        self.raw = nn.Sequential(\\n            SepConv1d(raw_ni,  32, 8, 2, 3, drop=drop),\\n            SepConv1d(32,  64, 8, 4, 2, drop=drop),\\n            SepConv1d(64, 128, 8, 4, 2, drop=drop),\\n            SepConv1d(128, 256, 8, 4, 2),\\n            Flatten(),\\n            nn.Dropout(drop), nn.Linear(256, 64), nn.ReLU(inplace=True),\\n            nn.Dropout(drop), nn.Linear(64, 64), nn.ReLU(inplace=True))\\n\\n        self.fft = nn.Sequential(\\n            SepConv1d(fft_ni,  32, 8, 2, 4, drop=drop),\\n            SepConv1d(32,  64, 8, 2, 4, drop=drop),\\n            SepConv1d(64, 128, 8, 4, 4, drop=drop),\\n            SepConv1d(128, 128, 8, 4, 4, drop=drop),\\n            SepConv1d(128, 256, 8, 2, 3),\\n            Flatten(),\\n            nn.Dropout(drop), nn.Linear(256, 64), nn.ReLU(inplace=True),\\n            nn.Dropout(drop), nn.Linear(64, 64), nn.ReLU(inplace=True))\\n\\n        self.out = nn.Sequential(\\n            nn.Linear(128, 64), nn.ReLU(inplace=True), nn.Linear(64, no))\\n\\n    def forward(self, t_raw, t_fft):\\n        raw_out = self.raw(t_raw)\\n        fft_out = self.fft(t_fft)\\n        t_in = torch.cat([raw_out, fft_out], dim=1)\\n        out = self.out(t_in)\\n        return out\\n'"
            ]
          },
          "execution_count": 318,
          "metadata": {},
          "output_type": "execute_result"
        }
      ],
      "source": [
        "'''\n",
        "# EXPERIMENTAL\n",
        "class Classifier(nn.Module):\n",
        "    def __init__(self, raw_ni, fft_ni, no, drop=.5):\n",
        "        super().__init__()\n",
        "\n",
        "        self.raw = nn.Sequential(\n",
        "            SepConv1d(raw_ni,  32, 8, 2, 3, drop=drop),\n",
        "            SepConv1d(32,  64, 8, 4, 2, drop=drop),\n",
        "            SepConv1d(64, 128, 8, 4, 2, drop=drop),\n",
        "            SepConv1d(128, 256, 8, 4, 2),\n",
        "            Flatten(),\n",
        "            nn.Dropout(drop), nn.Linear(256, 64), nn.ReLU(inplace=True),\n",
        "            nn.Dropout(drop), nn.Linear(64, 64), nn.ReLU(inplace=True))\n",
        "\n",
        "        self.fft = nn.Sequential(\n",
        "            SepConv1d(fft_ni,  32, 8, 2, 4, drop=drop),\n",
        "            SepConv1d(32,  64, 8, 2, 4, drop=drop),\n",
        "            SepConv1d(64, 128, 8, 4, 4, drop=drop),\n",
        "            SepConv1d(128, 128, 8, 4, 4, drop=drop),\n",
        "            SepConv1d(128, 256, 8, 2, 3),\n",
        "            Flatten(),\n",
        "            nn.Dropout(drop), nn.Linear(256, 64), nn.ReLU(inplace=True),\n",
        "            nn.Dropout(drop), nn.Linear(64, 64), nn.ReLU(inplace=True))\n",
        "\n",
        "        self.out = nn.Sequential(\n",
        "            nn.Linear(128, 64), nn.ReLU(inplace=True), nn.Linear(64, no))\n",
        "\n",
        "    def forward(self, t_raw, t_fft):\n",
        "        raw_out = self.raw(t_raw)\n",
        "        fft_out = self.fft(t_fft)\n",
        "        t_in = torch.cat([raw_out, fft_out], dim=1)\n",
        "        out = self.out(t_in)\n",
        "        return out\n",
        "'''\n"
      ]
    },
    {
      "cell_type": "code",
      "execution_count": 363,
      "id": "9953c4ea",
      "metadata": {
        "id": "9953c4ea"
      },
      "outputs": [],
      "source": [
        "class Classifier(nn.Module):\n",
        "    def __init__(self, raw_ni, no, drop=.5):\n",
        "        super().__init__()\n",
        "\n",
        "        self.net = nn.Sequential(\n",
        "            # nn.Flatten(),\n",
        "            nn.Linear(raw_ni, 2048),\n",
        "            nn.Sigmoid(),\n",
        "            nn.Linear(2048, 2048),\n",
        "            nn.Sigmoid(),\n",
        "            nn.Linear(2048, 2048),\n",
        "            nn.Sigmoid(),\n",
        "            nn.Linear(2048, no),\n",
        "        )\n",
        "\n",
        "    def forward(self, x):\n",
        "        out = self.net(x)\n",
        "        return out\n"
      ]
    },
    {
      "cell_type": "code",
      "execution_count": 320,
      "id": "6df91b17",
      "metadata": {
        "id": "6df91b17"
      },
      "outputs": [],
      "source": [
        "# Calculating the loss\n",
        "# loss = nn.CrossEntropyLoss(reduction='none')\n",
        "loss = nn.MSELoss(reduction='none')\n",
        "\n",
        "\n",
        "def evaluate_loss(data_iter, net, devices):\n",
        "    l_sum, n = 0.0, 0\n",
        "    for features, labels in data_iter:\n",
        "        features, labels = features.to(devices[0]), labels.to(devices[0])\n",
        "        outputs = net(features)\n",
        "        l = loss(outputs, labels)\n",
        "        l_sum += l.sum()\n",
        "        n += labels.numel()\n",
        "    return l_sum / n\n"
      ]
    },
    {
      "cell_type": "code",
      "execution_count": 321,
      "id": "4a967187",
      "metadata": {
        "id": "4a967187"
      },
      "outputs": [],
      "source": [
        "# Defining the Training Function\n",
        "def train(net, train_iter, valid_iter, num_epochs, lr, wd, devices, lr_period, lr_decay):\n",
        "\n",
        "    net = nn.DataParallel(net, device_ids=devices).to(devices[0])\n",
        "    trainer = torch.optim.SGD((param for param in net.parameters()\n",
        "                               if param.requires_grad), lr=lr,\n",
        "                              momentum=0.9, weight_decay=wd)\n",
        "    scheduler = torch.optim.lr_scheduler.StepLR(trainer, lr_period, lr_decay)\n",
        "    num_batches, timer = len(train_iter), d2l.Timer()\n",
        "    legend = ['train loss']\n",
        "    if valid_iter is not None:\n",
        "        legend.append('valid loss')\n",
        "    animator = d2l.Animator(xlabel='epoch', xlim=[1, num_epochs],\n",
        "                            legend=legend)\n",
        "    for epoch in range(num_epochs):\n",
        "        metric = d2l.Accumulator(2)\n",
        "        for i, (features, labels) in enumerate(train_iter):\n",
        "            timer.start()\n",
        "\n",
        "            # print(features[0])\n",
        "            # print(labels[0])\n",
        "\n",
        "            features, labels = features.to(devices[0]), labels.to(devices[0])\n",
        "            # features, labels = features.cuda(), labels.cuda()\n",
        "            trainer.zero_grad()\n",
        "            output = net(features)\n",
        "\n",
        "            # print(f'epoch={epoch}: output={output}')\n",
        "\n",
        "            l = loss(output, labels).sum()\n",
        "\n",
        "            # print(f'epoch={epoch}: loss={l}')\n",
        "\n",
        "            # break\n",
        "\n",
        "            l.backward()\n",
        "            trainer.step()\n",
        "            metric.add(l, labels.shape[0])\n",
        "            timer.stop()\n",
        "            if (i + 1) % (num_batches // 5) == 0 or i == num_batches - 1:\n",
        "                animator.add(epoch + (i + 1) / num_batches,\n",
        "                             (metric[0] / metric[1], None))\n",
        "            # torch.cuda.empty_cache()  # Helps avoid out-of-memory errors?\n",
        "        measures = f'train loss {metric[0] / metric[1]:.3f}'\n",
        "        if valid_iter is not None:\n",
        "            valid_loss = evaluate_loss(valid_iter, net, devices)\n",
        "            animator.add(epoch + 1, (None, valid_loss.detach().cpu()))\n",
        "        scheduler.step()\n",
        "    if valid_iter is not None:\n",
        "        measures += f', valid loss {valid_loss:.3f}'\n",
        "    print(measures + f'\\n{metric[1] * num_epochs / timer.sum():.1f}'\n",
        "          f' examples/sec on {str(devices)}')\n",
        "\n",
        "    return net\n"
      ]
    },
    {
      "cell_type": "markdown",
      "id": "b3c6a712",
      "metadata": {
        "id": "b3c6a712"
      },
      "source": [
        "## Prepare the datasets"
      ]
    },
    {
      "cell_type": "markdown",
      "id": "b52a8829",
      "metadata": {
        "id": "b52a8829"
      },
      "source": [
        "**Load the previously-initialized datasets**"
      ]
    },
    {
      "cell_type": "code",
      "execution_count": 322,
      "id": "05688c82",
      "metadata": {
        "id": "05688c82"
      },
      "outputs": [],
      "source": [
        "spo2_vals = jb.load('strided_dataset_spo2_vals.pk')\n"
      ]
    },
    {
      "cell_type": "code",
      "execution_count": 323,
      "id": "4e02f22e",
      "metadata": {
        "id": "4e02f22e"
      },
      "outputs": [],
      "source": [
        "stride_dataset = jb.load('strided_dataset.pk')\n"
      ]
    },
    {
      "cell_type": "code",
      "execution_count": 324,
      "id": "5016155a",
      "metadata": {
        "colab": {
          "base_uri": "https://localhost:8080/",
          "height": 473
        },
        "id": "5016155a",
        "outputId": "a3b8da99-d4a9-433a-aa3f-5572127902b6"
      },
      "outputs": [
        {
          "data": {
            "text/html": [
              "<div>\n",
              "<style scoped>\n",
              "    .dataframe tbody tr th:only-of-type {\n",
              "        vertical-align: middle;\n",
              "    }\n",
              "\n",
              "    .dataframe tbody tr th {\n",
              "        vertical-align: top;\n",
              "    }\n",
              "\n",
              "    .dataframe thead th {\n",
              "        text-align: right;\n",
              "    }\n",
              "</style>\n",
              "<table border=\"1\" class=\"dataframe\">\n",
              "  <thead>\n",
              "    <tr style=\"text-align: right;\">\n",
              "      <th></th>\n",
              "      <th>0</th>\n",
              "      <th>1</th>\n",
              "      <th>2</th>\n",
              "      <th>3</th>\n",
              "      <th>4</th>\n",
              "      <th>5</th>\n",
              "      <th>6</th>\n",
              "      <th>7</th>\n",
              "      <th>8</th>\n",
              "      <th>9</th>\n",
              "      <th>...</th>\n",
              "      <th>462</th>\n",
              "      <th>463</th>\n",
              "      <th>464</th>\n",
              "      <th>465</th>\n",
              "      <th>466</th>\n",
              "      <th>467</th>\n",
              "      <th>468</th>\n",
              "      <th>469</th>\n",
              "      <th>470</th>\n",
              "      <th>471</th>\n",
              "    </tr>\n",
              "  </thead>\n",
              "  <tbody>\n",
              "    <tr>\n",
              "      <th>0</th>\n",
              "      <td>[0.03372104154178412, 0.03397176784514704, 0.0...</td>\n",
              "      <td>[0.04731305135860989, 0.04697857306417262, 0.0...</td>\n",
              "      <td>[0.03264586549525568, 0.03268662650254539, 0.0...</td>\n",
              "      <td>[0.04357170663524913, 0.039279179841498, 0.037...</td>\n",
              "      <td>[0.031851970311964205, 0.031107434161106437, 0...</td>\n",
              "      <td>[0.03986019626984409, 0.03929637549984271, 0.0...</td>\n",
              "      <td>[0.03282511309117019, 0.03527781220441398, 0.0...</td>\n",
              "      <td>[0.035912936286504195, 0.03467777418717162, 0....</td>\n",
              "      <td>[0.04377106091335317, 0.045851945830828515, 0....</td>\n",
              "      <td>[0.033072571319707894, 0.032919897481614786, 0...</td>\n",
              "      <td>...</td>\n",
              "      <td>[0.032162507855820865, 0.032372882500816845, 0...</td>\n",
              "      <td>[0.037258913506823595, 0.03715192398722741, 0....</td>\n",
              "      <td>[0.03237275810305099, 0.032211187580555314, 0....</td>\n",
              "      <td>[0.038429344912384825, 0.03801394869358321, 0....</td>\n",
              "      <td>[0.03139547543730144, 0.03143103656403802, 0.0...</td>\n",
              "      <td>[0.03510589086291036, 0.03414388555401851, 0.0...</td>\n",
              "      <td>[0.032141706765738104, 0.03344910062722363, 0....</td>\n",
              "      <td>[0.03708469011064996, 0.035947146013096835, 0....</td>\n",
              "      <td>[0.03212565775730998, 0.03268221672720852, 0.0...</td>\n",
              "      <td>[0.03782007791220445, 0.03717689074631551, 0.0...</td>\n",
              "    </tr>\n",
              "    <tr>\n",
              "      <th>1</th>\n",
              "      <td>[0.052180152146382934, 0.0560367493194694, 0.0...</td>\n",
              "      <td>[0.03309772335235617, 0.03166751119813404, 0.0...</td>\n",
              "      <td>[0.05500736682231697, 0.0578087895162848, 0.05...</td>\n",
              "      <td>[0.02168649033807883, 0.0208397077806842, 0.02...</td>\n",
              "      <td>[0.05485601153072067, 0.049658875072782376, 0....</td>\n",
              "      <td>[0.028497891675333266, 0.027842856755506178, 0...</td>\n",
              "      <td>[0.036196317138285326, 0.03220027155339502, 0....</td>\n",
              "      <td>[0.018435764913356256, 0.027469660115215698, 0...</td>\n",
              "      <td>[0.0337251713947788, 0.031840145158706645, 0.0...</td>\n",
              "      <td>[0.03267519030787743, 0.04605598281838222, 0.0...</td>\n",
              "      <td>...</td>\n",
              "      <td>[0.06066046289924655, 0.05758851583906523, 0.0...</td>\n",
              "      <td>[0.0313869440500196, 0.03005468853463802, 0.02...</td>\n",
              "      <td>[0.05374832312366484, 0.050127216007903846, 0....</td>\n",
              "      <td>[0.01798464704419525, 0.017431840816448028, 0....</td>\n",
              "      <td>[0.049160597594984735, 0.044529526569980334, 0...</td>\n",
              "      <td>[0.03037268369711297, 0.029224303251262594, 0....</td>\n",
              "      <td>[0.043046683247460006, 0.03575116139328748, 0....</td>\n",
              "      <td>[0.025013671777612597, 0.020730170219434026, 0...</td>\n",
              "      <td>[0.0404446705173963, 0.03613210450933765, 0.03...</td>\n",
              "      <td>[0.027045332262797775, 0.02603801138754177, 0....</td>\n",
              "    </tr>\n",
              "    <tr>\n",
              "      <th>2</th>\n",
              "      <td>[0.024557774370014128, 0.022284837039949486, 0...</td>\n",
              "      <td>[0.05032035178591479, 0.04258426369282614, 0.0...</td>\n",
              "      <td>[0.014331186543727305, 0.012543612693903375, 0...</td>\n",
              "      <td>[0.024099026482972477, 0.024439084553870918, 0...</td>\n",
              "      <td>[0.05244834538954765, 0.061058299350027656, 0....</td>\n",
              "      <td>[0.03714890993194224, 0.03443890833868782, 0.0...</td>\n",
              "      <td>[0.02628642171054967, 0.025576561889805723, 0....</td>\n",
              "      <td>[0.02609682162062108, 0.026056798174449086, 0....</td>\n",
              "      <td>[0.04900031873496176, 0.04740353782244562, 0.0...</td>\n",
              "      <td>[0.03474856963495425, 0.03327732475321049, 0.0...</td>\n",
              "      <td>...</td>\n",
              "      <td>[0.05006476737232306, 0.04515892342774832, 0.0...</td>\n",
              "      <td>[0.03012050624601321, 0.027657712874887906, 0....</td>\n",
              "      <td>[0.02156352563651699, 0.020727639621658227, 0....</td>\n",
              "      <td>[0.03900533644501492, 0.05363256762838413, 0.0...</td>\n",
              "      <td>[0.04274133057528327, 0.03946763301249062, 0.0...</td>\n",
              "      <td>[0.025937991822347406, 0.024536094130741225, 0...</td>\n",
              "      <td>[0.021297838643334184, 0.020429108629605893, 0...</td>\n",
              "      <td>[0.06194172356970404, 0.06090341699960927, 0.0...</td>\n",
              "      <td>[0.03837564923320484, 0.03536118376798314, 0.0...</td>\n",
              "      <td>[0.023887632792863548, 0.023527735322563414, 0...</td>\n",
              "    </tr>\n",
              "    <tr>\n",
              "      <th>3</th>\n",
              "      <td>[0.043389370975970475, 0.06340548289586766, 0....</td>\n",
              "      <td>[0.024638065563935913, 0.02388210730785458, 0....</td>\n",
              "      <td>[0.05535896011925801, 0.04812067277194435, 0.0...</td>\n",
              "      <td>[0.025951290442527628, 0.02458399516851567, 0....</td>\n",
              "      <td>[0.04853952942142898, 0.04218039761999466, 0.0...</td>\n",
              "      <td>[0.019595775563279405, 0.02191843081342576, 0....</td>\n",
              "      <td>[0.028256413929607628, 0.027508997272458268, 0...</td>\n",
              "      <td>[0.03422009832781893, 0.04531519851948931, 0.0...</td>\n",
              "      <td>[0.02423751908144188, 0.024049561434740113, 0....</td>\n",
              "      <td>[0.06009972070633664, 0.06279138289271942, 0.0...</td>\n",
              "      <td>...</td>\n",
              "      <td>[0.05547461809686946, 0.05040579669642153, 0.0...</td>\n",
              "      <td>[0.02468386481371841, 0.023285130567127034, 0....</td>\n",
              "      <td>[0.023500333098608304, 0.03365654551447295, 0....</td>\n",
              "      <td>[0.03569971842546504, 0.0330748103999321, 0.03...</td>\n",
              "      <td>[0.02564640483788606, 0.0249413325517764, 0.02...</td>\n",
              "      <td>[0.05611222072869675, 0.051885156816696636, 0....</td>\n",
              "      <td>[0.02564948556789629, 0.025250786398667416, 0....</td>\n",
              "      <td>[0.040180628586113674, 0.053892457507907186, 0...</td>\n",
              "      <td>[0.030237460568386353, 0.03009012435803406, 0....</td>\n",
              "      <td>[0.02104004443867429, 0.020215186330278967, 0....</td>\n",
              "    </tr>\n",
              "    <tr>\n",
              "      <th>4</th>\n",
              "      <td>[0.029762264400134124, 0.032373123459817334, 0...</td>\n",
              "      <td>[0.045824949186247195, 0.047215820424724456, 0...</td>\n",
              "      <td>[0.03339092180493148, 0.03195737079780867, 0.0...</td>\n",
              "      <td>[0.049729548022627156, 0.0470772156994864, 0.0...</td>\n",
              "      <td>[0.04494404929692547, 0.04873150228119527, 0.0...</td>\n",
              "      <td>[0.03638140809038926, 0.035110840888141016, 0....</td>\n",
              "      <td>[0.049427208091479276, 0.04657906641737451, 0....</td>\n",
              "      <td>[0.03285477916309806, 0.038287180859499156, 0....</td>\n",
              "      <td>[0.03514663904288717, 0.033640121625523045, 0....</td>\n",
              "      <td>[0.04689824813633789, 0.04573759013683168, 0.0...</td>\n",
              "      <td>...</td>\n",
              "      <td>[0.039264286058842614, 0.044320796416932526, 0...</td>\n",
              "      <td>[0.026920830676525693, 0.025912705386789116, 0...</td>\n",
              "      <td>[0.042721275391918466, 0.04068959122422486, 0....</td>\n",
              "      <td>[0.04028166915231973, 0.04402069498964633, 0.0...</td>\n",
              "      <td>[0.03433912227637138, 0.03340017644090447, 0.0...</td>\n",
              "      <td>[0.05026302580810306, 0.04716187823201371, 0.0...</td>\n",
              "      <td>[0.04065552025715917, 0.04560124013343653, 0.0...</td>\n",
              "      <td>[0.035186296702577426, 0.033932774842672944, 0...</td>\n",
              "      <td>[0.04607308416047314, 0.0425425911324416, 0.04...</td>\n",
              "      <td>[0.03278622564450319, 0.038132886083574256, 0....</td>\n",
              "    </tr>\n",
              "  </tbody>\n",
              "</table>\n",
              "<p>5 rows × 472 columns</p>\n",
              "</div>"
            ],
            "text/plain": [
              "                                                 0    \\\n",
              "0  [0.03372104154178412, 0.03397176784514704, 0.0...   \n",
              "1  [0.052180152146382934, 0.0560367493194694, 0.0...   \n",
              "2  [0.024557774370014128, 0.022284837039949486, 0...   \n",
              "3  [0.043389370975970475, 0.06340548289586766, 0....   \n",
              "4  [0.029762264400134124, 0.032373123459817334, 0...   \n",
              "\n",
              "                                                 1    \\\n",
              "0  [0.04731305135860989, 0.04697857306417262, 0.0...   \n",
              "1  [0.03309772335235617, 0.03166751119813404, 0.0...   \n",
              "2  [0.05032035178591479, 0.04258426369282614, 0.0...   \n",
              "3  [0.024638065563935913, 0.02388210730785458, 0....   \n",
              "4  [0.045824949186247195, 0.047215820424724456, 0...   \n",
              "\n",
              "                                                 2    \\\n",
              "0  [0.03264586549525568, 0.03268662650254539, 0.0...   \n",
              "1  [0.05500736682231697, 0.0578087895162848, 0.05...   \n",
              "2  [0.014331186543727305, 0.012543612693903375, 0...   \n",
              "3  [0.05535896011925801, 0.04812067277194435, 0.0...   \n",
              "4  [0.03339092180493148, 0.03195737079780867, 0.0...   \n",
              "\n",
              "                                                 3    \\\n",
              "0  [0.04357170663524913, 0.039279179841498, 0.037...   \n",
              "1  [0.02168649033807883, 0.0208397077806842, 0.02...   \n",
              "2  [0.024099026482972477, 0.024439084553870918, 0...   \n",
              "3  [0.025951290442527628, 0.02458399516851567, 0....   \n",
              "4  [0.049729548022627156, 0.0470772156994864, 0.0...   \n",
              "\n",
              "                                                 4    \\\n",
              "0  [0.031851970311964205, 0.031107434161106437, 0...   \n",
              "1  [0.05485601153072067, 0.049658875072782376, 0....   \n",
              "2  [0.05244834538954765, 0.061058299350027656, 0....   \n",
              "3  [0.04853952942142898, 0.04218039761999466, 0.0...   \n",
              "4  [0.04494404929692547, 0.04873150228119527, 0.0...   \n",
              "\n",
              "                                                 5    \\\n",
              "0  [0.03986019626984409, 0.03929637549984271, 0.0...   \n",
              "1  [0.028497891675333266, 0.027842856755506178, 0...   \n",
              "2  [0.03714890993194224, 0.03443890833868782, 0.0...   \n",
              "3  [0.019595775563279405, 0.02191843081342576, 0....   \n",
              "4  [0.03638140809038926, 0.035110840888141016, 0....   \n",
              "\n",
              "                                                 6    \\\n",
              "0  [0.03282511309117019, 0.03527781220441398, 0.0...   \n",
              "1  [0.036196317138285326, 0.03220027155339502, 0....   \n",
              "2  [0.02628642171054967, 0.025576561889805723, 0....   \n",
              "3  [0.028256413929607628, 0.027508997272458268, 0...   \n",
              "4  [0.049427208091479276, 0.04657906641737451, 0....   \n",
              "\n",
              "                                                 7    \\\n",
              "0  [0.035912936286504195, 0.03467777418717162, 0....   \n",
              "1  [0.018435764913356256, 0.027469660115215698, 0...   \n",
              "2  [0.02609682162062108, 0.026056798174449086, 0....   \n",
              "3  [0.03422009832781893, 0.04531519851948931, 0.0...   \n",
              "4  [0.03285477916309806, 0.038287180859499156, 0....   \n",
              "\n",
              "                                                 8    \\\n",
              "0  [0.04377106091335317, 0.045851945830828515, 0....   \n",
              "1  [0.0337251713947788, 0.031840145158706645, 0.0...   \n",
              "2  [0.04900031873496176, 0.04740353782244562, 0.0...   \n",
              "3  [0.02423751908144188, 0.024049561434740113, 0....   \n",
              "4  [0.03514663904288717, 0.033640121625523045, 0....   \n",
              "\n",
              "                                                 9    ...  \\\n",
              "0  [0.033072571319707894, 0.032919897481614786, 0...  ...   \n",
              "1  [0.03267519030787743, 0.04605598281838222, 0.0...  ...   \n",
              "2  [0.03474856963495425, 0.03327732475321049, 0.0...  ...   \n",
              "3  [0.06009972070633664, 0.06279138289271942, 0.0...  ...   \n",
              "4  [0.04689824813633789, 0.04573759013683168, 0.0...  ...   \n",
              "\n",
              "                                                 462  \\\n",
              "0  [0.032162507855820865, 0.032372882500816845, 0...   \n",
              "1  [0.06066046289924655, 0.05758851583906523, 0.0...   \n",
              "2  [0.05006476737232306, 0.04515892342774832, 0.0...   \n",
              "3  [0.05547461809686946, 0.05040579669642153, 0.0...   \n",
              "4  [0.039264286058842614, 0.044320796416932526, 0...   \n",
              "\n",
              "                                                 463  \\\n",
              "0  [0.037258913506823595, 0.03715192398722741, 0....   \n",
              "1  [0.0313869440500196, 0.03005468853463802, 0.02...   \n",
              "2  [0.03012050624601321, 0.027657712874887906, 0....   \n",
              "3  [0.02468386481371841, 0.023285130567127034, 0....   \n",
              "4  [0.026920830676525693, 0.025912705386789116, 0...   \n",
              "\n",
              "                                                 464  \\\n",
              "0  [0.03237275810305099, 0.032211187580555314, 0....   \n",
              "1  [0.05374832312366484, 0.050127216007903846, 0....   \n",
              "2  [0.02156352563651699, 0.020727639621658227, 0....   \n",
              "3  [0.023500333098608304, 0.03365654551447295, 0....   \n",
              "4  [0.042721275391918466, 0.04068959122422486, 0....   \n",
              "\n",
              "                                                 465  \\\n",
              "0  [0.038429344912384825, 0.03801394869358321, 0....   \n",
              "1  [0.01798464704419525, 0.017431840816448028, 0....   \n",
              "2  [0.03900533644501492, 0.05363256762838413, 0.0...   \n",
              "3  [0.03569971842546504, 0.0330748103999321, 0.03...   \n",
              "4  [0.04028166915231973, 0.04402069498964633, 0.0...   \n",
              "\n",
              "                                                 466  \\\n",
              "0  [0.03139547543730144, 0.03143103656403802, 0.0...   \n",
              "1  [0.049160597594984735, 0.044529526569980334, 0...   \n",
              "2  [0.04274133057528327, 0.03946763301249062, 0.0...   \n",
              "3  [0.02564640483788606, 0.0249413325517764, 0.02...   \n",
              "4  [0.03433912227637138, 0.03340017644090447, 0.0...   \n",
              "\n",
              "                                                 467  \\\n",
              "0  [0.03510589086291036, 0.03414388555401851, 0.0...   \n",
              "1  [0.03037268369711297, 0.029224303251262594, 0....   \n",
              "2  [0.025937991822347406, 0.024536094130741225, 0...   \n",
              "3  [0.05611222072869675, 0.051885156816696636, 0....   \n",
              "4  [0.05026302580810306, 0.04716187823201371, 0.0...   \n",
              "\n",
              "                                                 468  \\\n",
              "0  [0.032141706765738104, 0.03344910062722363, 0....   \n",
              "1  [0.043046683247460006, 0.03575116139328748, 0....   \n",
              "2  [0.021297838643334184, 0.020429108629605893, 0...   \n",
              "3  [0.02564948556789629, 0.025250786398667416, 0....   \n",
              "4  [0.04065552025715917, 0.04560124013343653, 0.0...   \n",
              "\n",
              "                                                 469  \\\n",
              "0  [0.03708469011064996, 0.035947146013096835, 0....   \n",
              "1  [0.025013671777612597, 0.020730170219434026, 0...   \n",
              "2  [0.06194172356970404, 0.06090341699960927, 0.0...   \n",
              "3  [0.040180628586113674, 0.053892457507907186, 0...   \n",
              "4  [0.035186296702577426, 0.033932774842672944, 0...   \n",
              "\n",
              "                                                 470  \\\n",
              "0  [0.03212565775730998, 0.03268221672720852, 0.0...   \n",
              "1  [0.0404446705173963, 0.03613210450933765, 0.03...   \n",
              "2  [0.03837564923320484, 0.03536118376798314, 0.0...   \n",
              "3  [0.030237460568386353, 0.03009012435803406, 0....   \n",
              "4  [0.04607308416047314, 0.0425425911324416, 0.04...   \n",
              "\n",
              "                                                 471  \n",
              "0  [0.03782007791220445, 0.03717689074631551, 0.0...  \n",
              "1  [0.027045332262797775, 0.02603801138754177, 0....  \n",
              "2  [0.023887632792863548, 0.023527735322563414, 0...  \n",
              "3  [0.02104004443867429, 0.020215186330278967, 0....  \n",
              "4  [0.03278622564450319, 0.038132886083574256, 0....  \n",
              "\n",
              "[5 rows x 472 columns]"
            ]
          },
          "execution_count": 324,
          "metadata": {},
          "output_type": "execute_result"
        }
      ],
      "source": [
        "dataset = pd.DataFrame.from_dict(stride_dataset).transpose()\n",
        "dataset.head()\n"
      ]
    },
    {
      "cell_type": "code",
      "execution_count": 325,
      "id": "8108f623",
      "metadata": {
        "colab": {
          "base_uri": "https://localhost:8080/",
          "height": 235
        },
        "id": "8108f623",
        "outputId": "d4262b3b-e5fb-45d8-89c9-29e83c6db248"
      },
      "outputs": [
        {
          "data": {
            "text/html": [
              "<div>\n",
              "<style scoped>\n",
              "    .dataframe tbody tr th:only-of-type {\n",
              "        vertical-align: middle;\n",
              "    }\n",
              "\n",
              "    .dataframe tbody tr th {\n",
              "        vertical-align: top;\n",
              "    }\n",
              "\n",
              "    .dataframe thead th {\n",
              "        text-align: right;\n",
              "    }\n",
              "</style>\n",
              "<table border=\"1\" class=\"dataframe\">\n",
              "  <thead>\n",
              "    <tr style=\"text-align: right;\">\n",
              "      <th></th>\n",
              "      <th>0</th>\n",
              "      <th>1</th>\n",
              "      <th>2</th>\n",
              "      <th>3</th>\n",
              "      <th>4</th>\n",
              "      <th>5</th>\n",
              "      <th>6</th>\n",
              "      <th>7</th>\n",
              "      <th>8</th>\n",
              "      <th>9</th>\n",
              "      <th>...</th>\n",
              "      <th>462</th>\n",
              "      <th>463</th>\n",
              "      <th>464</th>\n",
              "      <th>465</th>\n",
              "      <th>466</th>\n",
              "      <th>467</th>\n",
              "      <th>468</th>\n",
              "      <th>469</th>\n",
              "      <th>470</th>\n",
              "      <th>471</th>\n",
              "    </tr>\n",
              "  </thead>\n",
              "  <tbody>\n",
              "    <tr>\n",
              "      <th>0</th>\n",
              "      <td>97.0</td>\n",
              "      <td>97.0</td>\n",
              "      <td>97.0</td>\n",
              "      <td>97.0</td>\n",
              "      <td>97.0</td>\n",
              "      <td>97.0</td>\n",
              "      <td>97.0</td>\n",
              "      <td>97.0</td>\n",
              "      <td>97.0</td>\n",
              "      <td>97.0</td>\n",
              "      <td>...</td>\n",
              "      <td>97.0</td>\n",
              "      <td>97.0</td>\n",
              "      <td>97.0</td>\n",
              "      <td>97.0</td>\n",
              "      <td>97.0</td>\n",
              "      <td>97.0</td>\n",
              "      <td>97.0</td>\n",
              "      <td>97.0</td>\n",
              "      <td>97.0</td>\n",
              "      <td>97.0</td>\n",
              "    </tr>\n",
              "    <tr>\n",
              "      <th>1</th>\n",
              "      <td>100.0</td>\n",
              "      <td>100.0</td>\n",
              "      <td>100.0</td>\n",
              "      <td>100.0</td>\n",
              "      <td>100.0</td>\n",
              "      <td>100.0</td>\n",
              "      <td>100.0</td>\n",
              "      <td>100.0</td>\n",
              "      <td>100.0</td>\n",
              "      <td>100.0</td>\n",
              "      <td>...</td>\n",
              "      <td>100.0</td>\n",
              "      <td>100.0</td>\n",
              "      <td>100.0</td>\n",
              "      <td>100.0</td>\n",
              "      <td>100.0</td>\n",
              "      <td>100.0</td>\n",
              "      <td>100.0</td>\n",
              "      <td>100.0</td>\n",
              "      <td>100.0</td>\n",
              "      <td>100.0</td>\n",
              "    </tr>\n",
              "    <tr>\n",
              "      <th>2</th>\n",
              "      <td>97.0</td>\n",
              "      <td>97.0</td>\n",
              "      <td>97.0</td>\n",
              "      <td>97.0</td>\n",
              "      <td>97.0</td>\n",
              "      <td>97.0</td>\n",
              "      <td>96.0</td>\n",
              "      <td>96.0</td>\n",
              "      <td>96.0</td>\n",
              "      <td>96.0</td>\n",
              "      <td>...</td>\n",
              "      <td>95.0</td>\n",
              "      <td>95.0</td>\n",
              "      <td>95.0</td>\n",
              "      <td>95.0</td>\n",
              "      <td>95.0</td>\n",
              "      <td>95.0</td>\n",
              "      <td>95.0</td>\n",
              "      <td>95.0</td>\n",
              "      <td>95.0</td>\n",
              "      <td>95.0</td>\n",
              "    </tr>\n",
              "    <tr>\n",
              "      <th>3</th>\n",
              "      <td>93.0</td>\n",
              "      <td>93.0</td>\n",
              "      <td>93.0</td>\n",
              "      <td>93.0</td>\n",
              "      <td>93.0</td>\n",
              "      <td>93.0</td>\n",
              "      <td>93.0</td>\n",
              "      <td>93.0</td>\n",
              "      <td>93.0</td>\n",
              "      <td>93.0</td>\n",
              "      <td>...</td>\n",
              "      <td>93.0</td>\n",
              "      <td>93.0</td>\n",
              "      <td>93.0</td>\n",
              "      <td>93.0</td>\n",
              "      <td>93.0</td>\n",
              "      <td>93.0</td>\n",
              "      <td>93.0</td>\n",
              "      <td>93.0</td>\n",
              "      <td>93.0</td>\n",
              "      <td>93.0</td>\n",
              "    </tr>\n",
              "    <tr>\n",
              "      <th>4</th>\n",
              "      <td>99.0</td>\n",
              "      <td>99.0</td>\n",
              "      <td>99.0</td>\n",
              "      <td>99.0</td>\n",
              "      <td>99.0</td>\n",
              "      <td>99.0</td>\n",
              "      <td>99.0</td>\n",
              "      <td>99.0</td>\n",
              "      <td>100.0</td>\n",
              "      <td>100.0</td>\n",
              "      <td>...</td>\n",
              "      <td>99.0</td>\n",
              "      <td>99.0</td>\n",
              "      <td>99.0</td>\n",
              "      <td>99.0</td>\n",
              "      <td>99.0</td>\n",
              "      <td>99.0</td>\n",
              "      <td>99.0</td>\n",
              "      <td>99.0</td>\n",
              "      <td>99.0</td>\n",
              "      <td>100.0</td>\n",
              "    </tr>\n",
              "  </tbody>\n",
              "</table>\n",
              "<p>5 rows × 472 columns</p>\n",
              "</div>"
            ],
            "text/plain": [
              "     0      1      2      3      4      5      6      7      8      9    ...  \\\n",
              "0   97.0   97.0   97.0   97.0   97.0   97.0   97.0   97.0   97.0   97.0  ...   \n",
              "1  100.0  100.0  100.0  100.0  100.0  100.0  100.0  100.0  100.0  100.0  ...   \n",
              "2   97.0   97.0   97.0   97.0   97.0   97.0   96.0   96.0   96.0   96.0  ...   \n",
              "3   93.0   93.0   93.0   93.0   93.0   93.0   93.0   93.0   93.0   93.0  ...   \n",
              "4   99.0   99.0   99.0   99.0   99.0   99.0   99.0   99.0  100.0  100.0  ...   \n",
              "\n",
              "     462    463    464    465    466    467    468    469    470    471  \n",
              "0   97.0   97.0   97.0   97.0   97.0   97.0   97.0   97.0   97.0   97.0  \n",
              "1  100.0  100.0  100.0  100.0  100.0  100.0  100.0  100.0  100.0  100.0  \n",
              "2   95.0   95.0   95.0   95.0   95.0   95.0   95.0   95.0   95.0   95.0  \n",
              "3   93.0   93.0   93.0   93.0   93.0   93.0   93.0   93.0   93.0   93.0  \n",
              "4   99.0   99.0   99.0   99.0   99.0   99.0   99.0   99.0   99.0  100.0  \n",
              "\n",
              "[5 rows x 472 columns]"
            ]
          },
          "execution_count": 325,
          "metadata": {},
          "output_type": "execute_result"
        }
      ],
      "source": [
        "dataset_spo2 = pd.DataFrame.from_dict(spo2_vals).transpose()\n",
        "dataset_spo2.head()\n"
      ]
    },
    {
      "cell_type": "code",
      "execution_count": 326,
      "id": "a0f8bd52",
      "metadata": {
        "id": "a0f8bd52"
      },
      "outputs": [],
      "source": [
        "# convert percentage to decimal\n",
        "dataset_spo2 = dataset_spo2/100\n"
      ]
    },
    {
      "cell_type": "markdown",
      "id": "38e1634e",
      "metadata": {
        "id": "38e1634e"
      },
      "source": [
        "**Generate train and test datasets**"
      ]
    },
    {
      "cell_type": "code",
      "execution_count": 327,
      "id": "2e4e5759",
      "metadata": {
        "id": "2e4e5759"
      },
      "outputs": [],
      "source": [
        "# split the data into train, validation, and test sets (80/10/10)\n",
        "X_train, X_valid, X_test = np.split(dataset.sample(\n",
        "    frac=1), [int(.8*len(dataset)), int(.9*len(dataset))])\n",
        "y_train, y_valid, y_test = dataset_spo2.loc[X_train.index], dataset_spo2.loc[\n",
        "    X_valid.index], dataset_spo2.loc[X_test.index]\n"
      ]
    },
    {
      "cell_type": "code",
      "execution_count": 330,
      "id": "0f061c9e",
      "metadata": {
        "id": "0f061c9e"
      },
      "outputs": [],
      "source": [
        "# unroll the data\n",
        "X_train_unrolled = []\n",
        "y_train_unrolled = []\n",
        "for r in X_train.index:\n",
        "    for c in X_train.columns:\n",
        "        # skip values containing NaN\n",
        "        if not np.isnan(X_train.loc[r][c]).any() and not np.isnan(y_train.loc[r][c]):\n",
        "            X_train_unrolled.append(X_train.loc[r][c])\n",
        "            y_train_unrolled.append(y_train.loc[r][c])\n",
        "\n",
        "X_valid_unrolled = []\n",
        "y_valid_unrolled = []\n",
        "for r in X_valid.index:\n",
        "    for c in X_valid.columns:\n",
        "        # skip values containing NaN\n",
        "        if not np.isnan(X_valid.loc[r][c]).any() and not np.isnan(y_valid.loc[r][c]):\n",
        "            X_valid_unrolled.append(X_valid.loc[r][c])\n",
        "            y_valid_unrolled.append(y_valid.loc[r][c])\n",
        "\n",
        "X_test_unrolled = []\n",
        "y_test_unrolled = []\n",
        "for r in X_test.index:\n",
        "    for c in X_test.columns:\n",
        "        # skip values containing NaN\n",
        "        if not np.isnan(X_test.loc[r][c]).any() and not np.isnan(y_test.loc[r][c]):\n",
        "            X_test_unrolled.append(X_test.loc[r][c])\n",
        "            y_test_unrolled.append(y_test.loc[r][c])\n"
      ]
    },
    {
      "cell_type": "code",
      "execution_count": 331,
      "id": "513a5073",
      "metadata": {
        "id": "513a5073"
      },
      "outputs": [],
      "source": [
        "# convert to tensors\n",
        "X_train, y_train = torch.tensor(X_train_unrolled, dtype=torch.float32), torch.tensor(\n",
        "    y_train_unrolled, dtype=torch.float32)\n",
        "X_valid, y_valid = torch.tensor(X_valid_unrolled, dtype=torch.float32), torch.tensor(\n",
        "    y_valid_unrolled, dtype=torch.float32)\n",
        "X_test, y_test = torch.tensor(X_test_unrolled, dtype=torch.float32), torch.tensor(\n",
        "    y_test_unrolled, dtype=torch.float32)\n"
      ]
    },
    {
      "cell_type": "code",
      "execution_count": 332,
      "id": "1b5a5254",
      "metadata": {},
      "outputs": [],
      "source": [
        "# reshape y tensors\n",
        "y_train = y_train.reshape(-1, 1)\n",
        "y_valid = y_valid.reshape(-1, 1)\n",
        "y_test = y_test.reshape(-1, 1)\n"
      ]
    },
    {
      "cell_type": "code",
      "execution_count": 333,
      "id": "e2cf8daf",
      "metadata": {},
      "outputs": [],
      "source": [
        "# normalize x data\n",
        "X_train_mean = X_train.mean()\n",
        "X_train_std = X_train.std()\n",
        "X_train = (X_train - X_train_mean) / (X_train_std + 1e-7)\n",
        "\n",
        "X_valid_mean = X_valid.mean()\n",
        "X_valid_std = X_valid.std()\n",
        "X_valid = (X_valid - X_valid_mean) / (X_valid_std + 1e-7)\n",
        "\n",
        "X_test_mean = X_test.mean()\n",
        "X_test_std = X_test.std()\n",
        "X_test = (X_test - X_test_mean) / (X_test_std + 1e-7)\n"
      ]
    },
    {
      "cell_type": "code",
      "execution_count": 334,
      "id": "00c33b59",
      "metadata": {
        "id": "00c33b59"
      },
      "outputs": [],
      "source": [
        "# convert to torch iterators\n",
        "batch_size = 64\n",
        "train_iter = torch.utils.data.DataLoader(torch.utils.data.TensorDataset(\n",
        "    X_train, y_train), batch_size=batch_size, shuffle=True)\n",
        "valid_iter = torch.utils.data.DataLoader(torch.utils.data.TensorDataset(\n",
        "    X_valid, y_valid), batch_size=batch_size, shuffle=True)\n",
        "test_iter = torch.utils.data.DataLoader(torch.utils.data.TensorDataset(\n",
        "    X_test, y_test), batch_size=batch_size, shuffle=True)\n"
      ]
    },
    {
      "cell_type": "markdown",
      "id": "e62aaeb7",
      "metadata": {
        "id": "e62aaeb7"
      },
      "source": [
        "## Train the model"
      ]
    },
    {
      "cell_type": "code",
      "execution_count": 341,
      "id": "e592c4a4",
      "metadata": {
        "id": "e592c4a4"
      },
      "outputs": [],
      "source": [
        "num_epochs = 10\n",
        "lr, wd = 1e-4, 1e-4\n",
        "lr_period, lr_decay = 2, 0.9\n"
      ]
    },
    {
      "cell_type": "code",
      "execution_count": 336,
      "id": "8142f8f0",
      "metadata": {
        "colab": {
          "base_uri": "https://localhost:8080/"
        },
        "id": "8142f8f0",
        "outputId": "351adf60-b781-4cef-eb2e-12171d77f4ec"
      },
      "outputs": [
        {
          "name": "stdout",
          "output_type": "stream",
          "text": [
            "[device(type='cuda', index=0)]\n"
          ]
        }
      ],
      "source": [
        "# Training and Validating the Model\n",
        "devices = d2l.try_all_gpus()\n",
        "print(devices)  # check if CUDA is working\n"
      ]
    },
    {
      "cell_type": "code",
      "execution_count": 337,
      "id": "84fe9bc0",
      "metadata": {},
      "outputs": [
        {
          "data": {
            "text/plain": [
              "<torch.autograd.anomaly_mode.set_detect_anomaly at 0x1a5c9cef4c0>"
            ]
          },
          "execution_count": 337,
          "metadata": {},
          "output_type": "execute_result"
        }
      ],
      "source": [
        "torch.autograd.set_detect_anomaly(True)\n"
      ]
    },
    {
      "cell_type": "code",
      "execution_count": 364,
      "id": "35f15c5a",
      "metadata": {
        "colab": {
          "base_uri": "https://localhost:8080/",
          "height": 298
        },
        "id": "35f15c5a",
        "outputId": "8a8b7d9d-23ea-422e-fdd2-6c3dc1d34bae"
      },
      "outputs": [
        {
          "name": "stdout",
          "output_type": "stream",
          "text": [
            "train loss 0.001, valid loss 0.001\n",
            "2719.0 examples/sec on [device(type='cuda', index=0)]\n"
          ]
        },
        {
          "data": {
            "image/svg+xml": "<?xml version=\"1.0\" encoding=\"utf-8\" standalone=\"no\"?>\n<!DOCTYPE svg PUBLIC \"-//W3C//DTD SVG 1.1//EN\"\n  \"http://www.w3.org/Graphics/SVG/1.1/DTD/svg11.dtd\">\n<svg xmlns:xlink=\"http://www.w3.org/1999/xlink\" width=\"235.7875pt\" height=\"180.65625pt\" viewBox=\"0 0 235.7875 180.65625\" xmlns=\"http://www.w3.org/2000/svg\" version=\"1.1\">\n <metadata>\n  <rdf:RDF xmlns:dc=\"http://purl.org/dc/elements/1.1/\" xmlns:cc=\"http://creativecommons.org/ns#\" xmlns:rdf=\"http://www.w3.org/1999/02/22-rdf-syntax-ns#\">\n   <cc:Work>\n    <dc:type rdf:resource=\"http://purl.org/dc/dcmitype/StillImage\"/>\n    <dc:date>2022-12-09T13:27:34.603547</dc:date>\n    <dc:format>image/svg+xml</dc:format>\n    <dc:creator>\n     <cc:Agent>\n      <dc:title>Matplotlib v3.5.2, https://matplotlib.org/</dc:title>\n     </cc:Agent>\n    </dc:creator>\n   </cc:Work>\n  </rdf:RDF>\n </metadata>\n <defs>\n  <style type=\"text/css\">*{stroke-linejoin: round; stroke-linecap: butt}</style>\n </defs>\n <g id=\"figure_1\">\n  <g id=\"patch_1\">\n   <path d=\"M 0 180.65625 \nL 235.7875 180.65625 \nL 235.7875 0 \nL 0 0 \nL 0 180.65625 \nz\n\" style=\"fill: none\"/>\n  </g>\n  <g id=\"axes_1\">\n   <g id=\"patch_2\">\n    <path d=\"M 26.925 143.1 \nL 222.225 143.1 \nL 222.225 7.2 \nL 26.925 7.2 \nz\n\" style=\"fill: #ffffff\"/>\n   </g>\n   <g id=\"matplotlib.axis_1\">\n    <g id=\"xtick_1\">\n     <g id=\"line2d_1\">\n      <path d=\"M 48.625 143.1 \nL 48.625 7.2 \n\" clip-path=\"url(#p5803415b39)\" style=\"fill: none; stroke: #b0b0b0; stroke-width: 0.8; stroke-linecap: square\"/>\n     </g>\n     <g id=\"line2d_2\">\n      <defs>\n       <path id=\"m5b2136843d\" d=\"M 0 0 \nL 0 3.5 \n\" style=\"stroke: #000000; stroke-width: 0.8\"/>\n      </defs>\n      <g>\n       <use xlink:href=\"#m5b2136843d\" x=\"48.625\" y=\"143.1\" style=\"stroke: #000000; stroke-width: 0.8\"/>\n      </g>\n     </g>\n     <g id=\"text_1\">\n      <!-- 2 -->\n      <g transform=\"translate(45.44375 157.698438)scale(0.1 -0.1)\">\n       <defs>\n        <path id=\"DejaVuSans-32\" d=\"M 1228 531 \nL 3431 531 \nL 3431 0 \nL 469 0 \nL 469 531 \nQ 828 903 1448 1529 \nQ 2069 2156 2228 2338 \nQ 2531 2678 2651 2914 \nQ 2772 3150 2772 3378 \nQ 2772 3750 2511 3984 \nQ 2250 4219 1831 4219 \nQ 1534 4219 1204 4116 \nQ 875 4013 500 3803 \nL 500 4441 \nQ 881 4594 1212 4672 \nQ 1544 4750 1819 4750 \nQ 2544 4750 2975 4387 \nQ 3406 4025 3406 3419 \nQ 3406 3131 3298 2873 \nQ 3191 2616 2906 2266 \nQ 2828 2175 2409 1742 \nQ 1991 1309 1228 531 \nz\n\" transform=\"scale(0.015625)\"/>\n       </defs>\n       <use xlink:href=\"#DejaVuSans-32\"/>\n      </g>\n     </g>\n    </g>\n    <g id=\"xtick_2\">\n     <g id=\"line2d_3\">\n      <path d=\"M 92.025 143.1 \nL 92.025 7.2 \n\" clip-path=\"url(#p5803415b39)\" style=\"fill: none; stroke: #b0b0b0; stroke-width: 0.8; stroke-linecap: square\"/>\n     </g>\n     <g id=\"line2d_4\">\n      <g>\n       <use xlink:href=\"#m5b2136843d\" x=\"92.025\" y=\"143.1\" style=\"stroke: #000000; stroke-width: 0.8\"/>\n      </g>\n     </g>\n     <g id=\"text_2\">\n      <!-- 4 -->\n      <g transform=\"translate(88.84375 157.698438)scale(0.1 -0.1)\">\n       <defs>\n        <path id=\"DejaVuSans-34\" d=\"M 2419 4116 \nL 825 1625 \nL 2419 1625 \nL 2419 4116 \nz\nM 2253 4666 \nL 3047 4666 \nL 3047 1625 \nL 3713 1625 \nL 3713 1100 \nL 3047 1100 \nL 3047 0 \nL 2419 0 \nL 2419 1100 \nL 313 1100 \nL 313 1709 \nL 2253 4666 \nz\n\" transform=\"scale(0.015625)\"/>\n       </defs>\n       <use xlink:href=\"#DejaVuSans-34\"/>\n      </g>\n     </g>\n    </g>\n    <g id=\"xtick_3\">\n     <g id=\"line2d_5\">\n      <path d=\"M 135.425 143.1 \nL 135.425 7.2 \n\" clip-path=\"url(#p5803415b39)\" style=\"fill: none; stroke: #b0b0b0; stroke-width: 0.8; stroke-linecap: square\"/>\n     </g>\n     <g id=\"line2d_6\">\n      <g>\n       <use xlink:href=\"#m5b2136843d\" x=\"135.425\" y=\"143.1\" style=\"stroke: #000000; stroke-width: 0.8\"/>\n      </g>\n     </g>\n     <g id=\"text_3\">\n      <!-- 6 -->\n      <g transform=\"translate(132.24375 157.698438)scale(0.1 -0.1)\">\n       <defs>\n        <path id=\"DejaVuSans-36\" d=\"M 2113 2584 \nQ 1688 2584 1439 2293 \nQ 1191 2003 1191 1497 \nQ 1191 994 1439 701 \nQ 1688 409 2113 409 \nQ 2538 409 2786 701 \nQ 3034 994 3034 1497 \nQ 3034 2003 2786 2293 \nQ 2538 2584 2113 2584 \nz\nM 3366 4563 \nL 3366 3988 \nQ 3128 4100 2886 4159 \nQ 2644 4219 2406 4219 \nQ 1781 4219 1451 3797 \nQ 1122 3375 1075 2522 \nQ 1259 2794 1537 2939 \nQ 1816 3084 2150 3084 \nQ 2853 3084 3261 2657 \nQ 3669 2231 3669 1497 \nQ 3669 778 3244 343 \nQ 2819 -91 2113 -91 \nQ 1303 -91 875 529 \nQ 447 1150 447 2328 \nQ 447 3434 972 4092 \nQ 1497 4750 2381 4750 \nQ 2619 4750 2861 4703 \nQ 3103 4656 3366 4563 \nz\n\" transform=\"scale(0.015625)\"/>\n       </defs>\n       <use xlink:href=\"#DejaVuSans-36\"/>\n      </g>\n     </g>\n    </g>\n    <g id=\"xtick_4\">\n     <g id=\"line2d_7\">\n      <path d=\"M 178.825 143.1 \nL 178.825 7.2 \n\" clip-path=\"url(#p5803415b39)\" style=\"fill: none; stroke: #b0b0b0; stroke-width: 0.8; stroke-linecap: square\"/>\n     </g>\n     <g id=\"line2d_8\">\n      <g>\n       <use xlink:href=\"#m5b2136843d\" x=\"178.825\" y=\"143.1\" style=\"stroke: #000000; stroke-width: 0.8\"/>\n      </g>\n     </g>\n     <g id=\"text_4\">\n      <!-- 8 -->\n      <g transform=\"translate(175.64375 157.698438)scale(0.1 -0.1)\">\n       <defs>\n        <path id=\"DejaVuSans-38\" d=\"M 2034 2216 \nQ 1584 2216 1326 1975 \nQ 1069 1734 1069 1313 \nQ 1069 891 1326 650 \nQ 1584 409 2034 409 \nQ 2484 409 2743 651 \nQ 3003 894 3003 1313 \nQ 3003 1734 2745 1975 \nQ 2488 2216 2034 2216 \nz\nM 1403 2484 \nQ 997 2584 770 2862 \nQ 544 3141 544 3541 \nQ 544 4100 942 4425 \nQ 1341 4750 2034 4750 \nQ 2731 4750 3128 4425 \nQ 3525 4100 3525 3541 \nQ 3525 3141 3298 2862 \nQ 3072 2584 2669 2484 \nQ 3125 2378 3379 2068 \nQ 3634 1759 3634 1313 \nQ 3634 634 3220 271 \nQ 2806 -91 2034 -91 \nQ 1263 -91 848 271 \nQ 434 634 434 1313 \nQ 434 1759 690 2068 \nQ 947 2378 1403 2484 \nz\nM 1172 3481 \nQ 1172 3119 1398 2916 \nQ 1625 2713 2034 2713 \nQ 2441 2713 2670 2916 \nQ 2900 3119 2900 3481 \nQ 2900 3844 2670 4047 \nQ 2441 4250 2034 4250 \nQ 1625 4250 1398 4047 \nQ 1172 3844 1172 3481 \nz\n\" transform=\"scale(0.015625)\"/>\n       </defs>\n       <use xlink:href=\"#DejaVuSans-38\"/>\n      </g>\n     </g>\n    </g>\n    <g id=\"xtick_5\">\n     <g id=\"line2d_9\">\n      <path d=\"M 222.225 143.1 \nL 222.225 7.2 \n\" clip-path=\"url(#p5803415b39)\" style=\"fill: none; stroke: #b0b0b0; stroke-width: 0.8; stroke-linecap: square\"/>\n     </g>\n     <g id=\"line2d_10\">\n      <g>\n       <use xlink:href=\"#m5b2136843d\" x=\"222.225\" y=\"143.1\" style=\"stroke: #000000; stroke-width: 0.8\"/>\n      </g>\n     </g>\n     <g id=\"text_5\">\n      <!-- 10 -->\n      <g transform=\"translate(215.8625 157.698438)scale(0.1 -0.1)\">\n       <defs>\n        <path id=\"DejaVuSans-31\" d=\"M 794 531 \nL 1825 531 \nL 1825 4091 \nL 703 3866 \nL 703 4441 \nL 1819 4666 \nL 2450 4666 \nL 2450 531 \nL 3481 531 \nL 3481 0 \nL 794 0 \nL 794 531 \nz\n\" transform=\"scale(0.015625)\"/>\n        <path id=\"DejaVuSans-30\" d=\"M 2034 4250 \nQ 1547 4250 1301 3770 \nQ 1056 3291 1056 2328 \nQ 1056 1369 1301 889 \nQ 1547 409 2034 409 \nQ 2525 409 2770 889 \nQ 3016 1369 3016 2328 \nQ 3016 3291 2770 3770 \nQ 2525 4250 2034 4250 \nz\nM 2034 4750 \nQ 2819 4750 3233 4129 \nQ 3647 3509 3647 2328 \nQ 3647 1150 3233 529 \nQ 2819 -91 2034 -91 \nQ 1250 -91 836 529 \nQ 422 1150 422 2328 \nQ 422 3509 836 4129 \nQ 1250 4750 2034 4750 \nz\n\" transform=\"scale(0.015625)\"/>\n       </defs>\n       <use xlink:href=\"#DejaVuSans-31\"/>\n       <use xlink:href=\"#DejaVuSans-30\" x=\"63.623047\"/>\n      </g>\n     </g>\n    </g>\n    <g id=\"text_6\">\n     <!-- epoch -->\n     <g transform=\"translate(109.346875 171.376563)scale(0.1 -0.1)\">\n      <defs>\n       <path id=\"DejaVuSans-65\" d=\"M 3597 1894 \nL 3597 1613 \nL 953 1613 \nQ 991 1019 1311 708 \nQ 1631 397 2203 397 \nQ 2534 397 2845 478 \nQ 3156 559 3463 722 \nL 3463 178 \nQ 3153 47 2828 -22 \nQ 2503 -91 2169 -91 \nQ 1331 -91 842 396 \nQ 353 884 353 1716 \nQ 353 2575 817 3079 \nQ 1281 3584 2069 3584 \nQ 2775 3584 3186 3129 \nQ 3597 2675 3597 1894 \nz\nM 3022 2063 \nQ 3016 2534 2758 2815 \nQ 2500 3097 2075 3097 \nQ 1594 3097 1305 2825 \nQ 1016 2553 972 2059 \nL 3022 2063 \nz\n\" transform=\"scale(0.015625)\"/>\n       <path id=\"DejaVuSans-70\" d=\"M 1159 525 \nL 1159 -1331 \nL 581 -1331 \nL 581 3500 \nL 1159 3500 \nL 1159 2969 \nQ 1341 3281 1617 3432 \nQ 1894 3584 2278 3584 \nQ 2916 3584 3314 3078 \nQ 3713 2572 3713 1747 \nQ 3713 922 3314 415 \nQ 2916 -91 2278 -91 \nQ 1894 -91 1617 61 \nQ 1341 213 1159 525 \nz\nM 3116 1747 \nQ 3116 2381 2855 2742 \nQ 2594 3103 2138 3103 \nQ 1681 3103 1420 2742 \nQ 1159 2381 1159 1747 \nQ 1159 1113 1420 752 \nQ 1681 391 2138 391 \nQ 2594 391 2855 752 \nQ 3116 1113 3116 1747 \nz\n\" transform=\"scale(0.015625)\"/>\n       <path id=\"DejaVuSans-6f\" d=\"M 1959 3097 \nQ 1497 3097 1228 2736 \nQ 959 2375 959 1747 \nQ 959 1119 1226 758 \nQ 1494 397 1959 397 \nQ 2419 397 2687 759 \nQ 2956 1122 2956 1747 \nQ 2956 2369 2687 2733 \nQ 2419 3097 1959 3097 \nz\nM 1959 3584 \nQ 2709 3584 3137 3096 \nQ 3566 2609 3566 1747 \nQ 3566 888 3137 398 \nQ 2709 -91 1959 -91 \nQ 1206 -91 779 398 \nQ 353 888 353 1747 \nQ 353 2609 779 3096 \nQ 1206 3584 1959 3584 \nz\n\" transform=\"scale(0.015625)\"/>\n       <path id=\"DejaVuSans-63\" d=\"M 3122 3366 \nL 3122 2828 \nQ 2878 2963 2633 3030 \nQ 2388 3097 2138 3097 \nQ 1578 3097 1268 2742 \nQ 959 2388 959 1747 \nQ 959 1106 1268 751 \nQ 1578 397 2138 397 \nQ 2388 397 2633 464 \nQ 2878 531 3122 666 \nL 3122 134 \nQ 2881 22 2623 -34 \nQ 2366 -91 2075 -91 \nQ 1284 -91 818 406 \nQ 353 903 353 1747 \nQ 353 2603 823 3093 \nQ 1294 3584 2113 3584 \nQ 2378 3584 2631 3529 \nQ 2884 3475 3122 3366 \nz\n\" transform=\"scale(0.015625)\"/>\n       <path id=\"DejaVuSans-68\" d=\"M 3513 2113 \nL 3513 0 \nL 2938 0 \nL 2938 2094 \nQ 2938 2591 2744 2837 \nQ 2550 3084 2163 3084 \nQ 1697 3084 1428 2787 \nQ 1159 2491 1159 1978 \nL 1159 0 \nL 581 0 \nL 581 4863 \nL 1159 4863 \nL 1159 2956 \nQ 1366 3272 1645 3428 \nQ 1925 3584 2291 3584 \nQ 2894 3584 3203 3211 \nQ 3513 2838 3513 2113 \nz\n\" transform=\"scale(0.015625)\"/>\n      </defs>\n      <use xlink:href=\"#DejaVuSans-65\"/>\n      <use xlink:href=\"#DejaVuSans-70\" x=\"61.523438\"/>\n      <use xlink:href=\"#DejaVuSans-6f\" x=\"125\"/>\n      <use xlink:href=\"#DejaVuSans-63\" x=\"186.181641\"/>\n      <use xlink:href=\"#DejaVuSans-68\" x=\"241.162109\"/>\n     </g>\n    </g>\n   </g>\n   <g id=\"matplotlib.axis_2\">\n    <g id=\"ytick_1\">\n     <g id=\"line2d_11\">\n      <path d=\"M 26.925 136.923973 \nL 222.225 136.923973 \n\" clip-path=\"url(#p5803415b39)\" style=\"fill: none; stroke: #b0b0b0; stroke-width: 0.8; stroke-linecap: square\"/>\n     </g>\n     <g id=\"line2d_12\">\n      <defs>\n       <path id=\"mf7dfee0543\" d=\"M 0 0 \nL -3.5 0 \n\" style=\"stroke: #000000; stroke-width: 0.8\"/>\n      </defs>\n      <g>\n       <use xlink:href=\"#mf7dfee0543\" x=\"26.925\" y=\"136.923973\" style=\"stroke: #000000; stroke-width: 0.8\"/>\n      </g>\n     </g>\n     <g id=\"text_7\">\n      <!-- 0 -->\n      <g transform=\"translate(13.5625 140.723192)scale(0.1 -0.1)\">\n       <use xlink:href=\"#DejaVuSans-30\"/>\n      </g>\n     </g>\n    </g>\n    <g id=\"ytick_2\">\n     <g id=\"line2d_13\">\n      <path d=\"M 26.925 113.611488 \nL 222.225 113.611488 \n\" clip-path=\"url(#p5803415b39)\" style=\"fill: none; stroke: #b0b0b0; stroke-width: 0.8; stroke-linecap: square\"/>\n     </g>\n     <g id=\"line2d_14\">\n      <g>\n       <use xlink:href=\"#mf7dfee0543\" x=\"26.925\" y=\"113.611488\" style=\"stroke: #000000; stroke-width: 0.8\"/>\n      </g>\n     </g>\n     <g id=\"text_8\">\n      <!-- 10 -->\n      <g transform=\"translate(7.2 117.410707)scale(0.1 -0.1)\">\n       <use xlink:href=\"#DejaVuSans-31\"/>\n       <use xlink:href=\"#DejaVuSans-30\" x=\"63.623047\"/>\n      </g>\n     </g>\n    </g>\n    <g id=\"ytick_3\">\n     <g id=\"line2d_15\">\n      <path d=\"M 26.925 90.299004 \nL 222.225 90.299004 \n\" clip-path=\"url(#p5803415b39)\" style=\"fill: none; stroke: #b0b0b0; stroke-width: 0.8; stroke-linecap: square\"/>\n     </g>\n     <g id=\"line2d_16\">\n      <g>\n       <use xlink:href=\"#mf7dfee0543\" x=\"26.925\" y=\"90.299004\" style=\"stroke: #000000; stroke-width: 0.8\"/>\n      </g>\n     </g>\n     <g id=\"text_9\">\n      <!-- 20 -->\n      <g transform=\"translate(7.2 94.098223)scale(0.1 -0.1)\">\n       <use xlink:href=\"#DejaVuSans-32\"/>\n       <use xlink:href=\"#DejaVuSans-30\" x=\"63.623047\"/>\n      </g>\n     </g>\n    </g>\n    <g id=\"ytick_4\">\n     <g id=\"line2d_17\">\n      <path d=\"M 26.925 66.98652 \nL 222.225 66.98652 \n\" clip-path=\"url(#p5803415b39)\" style=\"fill: none; stroke: #b0b0b0; stroke-width: 0.8; stroke-linecap: square\"/>\n     </g>\n     <g id=\"line2d_18\">\n      <g>\n       <use xlink:href=\"#mf7dfee0543\" x=\"26.925\" y=\"66.98652\" style=\"stroke: #000000; stroke-width: 0.8\"/>\n      </g>\n     </g>\n     <g id=\"text_10\">\n      <!-- 30 -->\n      <g transform=\"translate(7.2 70.785738)scale(0.1 -0.1)\">\n       <defs>\n        <path id=\"DejaVuSans-33\" d=\"M 2597 2516 \nQ 3050 2419 3304 2112 \nQ 3559 1806 3559 1356 \nQ 3559 666 3084 287 \nQ 2609 -91 1734 -91 \nQ 1441 -91 1130 -33 \nQ 819 25 488 141 \nL 488 750 \nQ 750 597 1062 519 \nQ 1375 441 1716 441 \nQ 2309 441 2620 675 \nQ 2931 909 2931 1356 \nQ 2931 1769 2642 2001 \nQ 2353 2234 1838 2234 \nL 1294 2234 \nL 1294 2753 \nL 1863 2753 \nQ 2328 2753 2575 2939 \nQ 2822 3125 2822 3475 \nQ 2822 3834 2567 4026 \nQ 2313 4219 1838 4219 \nQ 1578 4219 1281 4162 \nQ 984 4106 628 3988 \nL 628 4550 \nQ 988 4650 1302 4700 \nQ 1616 4750 1894 4750 \nQ 2613 4750 3031 4423 \nQ 3450 4097 3450 3541 \nQ 3450 3153 3228 2886 \nQ 3006 2619 2597 2516 \nz\n\" transform=\"scale(0.015625)\"/>\n       </defs>\n       <use xlink:href=\"#DejaVuSans-33\"/>\n       <use xlink:href=\"#DejaVuSans-30\" x=\"63.623047\"/>\n      </g>\n     </g>\n    </g>\n    <g id=\"ytick_5\">\n     <g id=\"line2d_19\">\n      <path d=\"M 26.925 43.674035 \nL 222.225 43.674035 \n\" clip-path=\"url(#p5803415b39)\" style=\"fill: none; stroke: #b0b0b0; stroke-width: 0.8; stroke-linecap: square\"/>\n     </g>\n     <g id=\"line2d_20\">\n      <g>\n       <use xlink:href=\"#mf7dfee0543\" x=\"26.925\" y=\"43.674035\" style=\"stroke: #000000; stroke-width: 0.8\"/>\n      </g>\n     </g>\n     <g id=\"text_11\">\n      <!-- 40 -->\n      <g transform=\"translate(7.2 47.473254)scale(0.1 -0.1)\">\n       <use xlink:href=\"#DejaVuSans-34\"/>\n       <use xlink:href=\"#DejaVuSans-30\" x=\"63.623047\"/>\n      </g>\n     </g>\n    </g>\n    <g id=\"ytick_6\">\n     <g id=\"line2d_21\">\n      <path d=\"M 26.925 20.361551 \nL 222.225 20.361551 \n\" clip-path=\"url(#p5803415b39)\" style=\"fill: none; stroke: #b0b0b0; stroke-width: 0.8; stroke-linecap: square\"/>\n     </g>\n     <g id=\"line2d_22\">\n      <g>\n       <use xlink:href=\"#mf7dfee0543\" x=\"26.925\" y=\"20.361551\" style=\"stroke: #000000; stroke-width: 0.8\"/>\n      </g>\n     </g>\n     <g id=\"text_12\">\n      <!-- 50 -->\n      <g transform=\"translate(7.2 24.160769)scale(0.1 -0.1)\">\n       <defs>\n        <path id=\"DejaVuSans-35\" d=\"M 691 4666 \nL 3169 4666 \nL 3169 4134 \nL 1269 4134 \nL 1269 2991 \nQ 1406 3038 1543 3061 \nQ 1681 3084 1819 3084 \nQ 2600 3084 3056 2656 \nQ 3513 2228 3513 1497 \nQ 3513 744 3044 326 \nQ 2575 -91 1722 -91 \nQ 1428 -91 1123 -41 \nQ 819 9 494 109 \nL 494 744 \nQ 775 591 1075 516 \nQ 1375 441 1709 441 \nQ 2250 441 2565 725 \nQ 2881 1009 2881 1497 \nQ 2881 1984 2565 2268 \nQ 2250 2553 1709 2553 \nQ 1456 2553 1204 2497 \nQ 953 2441 691 2322 \nL 691 4666 \nz\n\" transform=\"scale(0.015625)\"/>\n       </defs>\n       <use xlink:href=\"#DejaVuSans-35\"/>\n       <use xlink:href=\"#DejaVuSans-30\" x=\"63.623047\"/>\n      </g>\n     </g>\n    </g>\n   </g>\n   <g id=\"line2d_23\">\n    <path d=\"M 9.522727 13.377273 \nL 13.820455 75.147147 \nL 18.118182 95.738489 \nL 22.415909 106.034223 \nL 26.713636 112.211611 \nL 26.925 112.439869 \nL 31.222727 136.921264 \nL 35.520455 136.921278 \nL 39.818182 136.921268 \nL 44.115909 136.921298 \nL 48.413636 136.921304 \nL 48.625 136.921302 \nL 52.922727 136.921294 \nL 57.220455 136.921304 \nL 61.518182 136.921332 \nL 65.815909 136.921328 \nL 70.113636 136.921304 \nL 70.325 136.921303 \nL 74.622727 136.921375 \nL 78.920455 136.921341 \nL 83.218182 136.921307 \nL 87.515909 136.921301 \nL 91.813636 136.921307 \nL 92.025 136.921303 \nL 96.322727 136.921256 \nL 100.620455 136.92123 \nL 104.918182 136.921279 \nL 109.215909 136.921286 \nL 113.513636 136.9213 \nL 113.725 136.921304 \nL 118.022727 136.921294 \nL 122.320455 136.921272 \nL 126.618182 136.921258 \nL 130.915909 136.921283 \nL 135.213636 136.921301 \nL 135.425 136.921304 \nL 139.722727 136.921235 \nL 144.020455 136.921277 \nL 148.318182 136.921303 \nL 152.615909 136.921297 \nL 156.913636 136.921307 \nL 157.125 136.921304 \nL 161.422727 136.921338 \nL 165.720455 136.921354 \nL 170.018182 136.921263 \nL 174.315909 136.921297 \nL 178.613636 136.921299 \nL 178.825 136.921304 \nL 183.122727 136.921158 \nL 187.420455 136.92122 \nL 191.718182 136.921303 \nL 196.015909 136.921328 \nL 200.313636 136.921305 \nL 200.525 136.921304 \nL 204.822727 136.921479 \nL 209.120455 136.921422 \nL 213.418182 136.921345 \nL 217.715909 136.921307 \nL 222.013636 136.921308 \nL 222.225 136.921305 \n\" clip-path=\"url(#p5803415b39)\" style=\"fill: none; stroke: #1f77b4; stroke-width: 1.5; stroke-linecap: square\"/>\n   </g>\n   <g id=\"line2d_24\">\n    <path d=\"M 26.925 136.922724 \nL 48.625 136.922727 \nL 70.325 136.922718 \nL 92.025 136.92272 \nL 113.725 136.922717 \nL 135.425 136.922726 \nL 157.125 136.922727 \nL 178.825 136.922727 \nL 200.525 136.922727 \nL 222.225 136.922717 \n\" clip-path=\"url(#p5803415b39)\" style=\"fill: none; stroke-dasharray: 5.55,2.4; stroke-dashoffset: 0; stroke: #bf00bf; stroke-width: 1.5\"/>\n   </g>\n   <g id=\"patch_3\">\n    <path d=\"M 26.925 143.1 \nL 26.925 7.2 \n\" style=\"fill: none; stroke: #000000; stroke-width: 0.8; stroke-linejoin: miter; stroke-linecap: square\"/>\n   </g>\n   <g id=\"patch_4\">\n    <path d=\"M 222.225 143.1 \nL 222.225 7.2 \n\" style=\"fill: none; stroke: #000000; stroke-width: 0.8; stroke-linejoin: miter; stroke-linecap: square\"/>\n   </g>\n   <g id=\"patch_5\">\n    <path d=\"M 26.925 143.1 \nL 222.225 143.1 \n\" style=\"fill: none; stroke: #000000; stroke-width: 0.8; stroke-linejoin: miter; stroke-linecap: square\"/>\n   </g>\n   <g id=\"patch_6\">\n    <path d=\"M 26.925 7.2 \nL 222.225 7.2 \n\" style=\"fill: none; stroke: #000000; stroke-width: 0.8; stroke-linejoin: miter; stroke-linecap: square\"/>\n   </g>\n   <g id=\"legend_1\">\n    <g id=\"patch_7\">\n     <path d=\"M 136.779688 44.55625 \nL 215.225 44.55625 \nQ 217.225 44.55625 217.225 42.55625 \nL 217.225 14.2 \nQ 217.225 12.2 215.225 12.2 \nL 136.779688 12.2 \nQ 134.779688 12.2 134.779688 14.2 \nL 134.779688 42.55625 \nQ 134.779688 44.55625 136.779688 44.55625 \nz\n\" style=\"fill: #ffffff; opacity: 0.8; stroke: #cccccc; stroke-linejoin: miter\"/>\n    </g>\n    <g id=\"line2d_25\">\n     <path d=\"M 138.779688 20.298437 \nL 148.779688 20.298437 \nL 158.779688 20.298437 \n\" style=\"fill: none; stroke: #1f77b4; stroke-width: 1.5; stroke-linecap: square\"/>\n    </g>\n    <g id=\"text_13\">\n     <!-- train loss -->\n     <g transform=\"translate(166.779688 23.798437)scale(0.1 -0.1)\">\n      <defs>\n       <path id=\"DejaVuSans-74\" d=\"M 1172 4494 \nL 1172 3500 \nL 2356 3500 \nL 2356 3053 \nL 1172 3053 \nL 1172 1153 \nQ 1172 725 1289 603 \nQ 1406 481 1766 481 \nL 2356 481 \nL 2356 0 \nL 1766 0 \nQ 1100 0 847 248 \nQ 594 497 594 1153 \nL 594 3053 \nL 172 3053 \nL 172 3500 \nL 594 3500 \nL 594 4494 \nL 1172 4494 \nz\n\" transform=\"scale(0.015625)\"/>\n       <path id=\"DejaVuSans-72\" d=\"M 2631 2963 \nQ 2534 3019 2420 3045 \nQ 2306 3072 2169 3072 \nQ 1681 3072 1420 2755 \nQ 1159 2438 1159 1844 \nL 1159 0 \nL 581 0 \nL 581 3500 \nL 1159 3500 \nL 1159 2956 \nQ 1341 3275 1631 3429 \nQ 1922 3584 2338 3584 \nQ 2397 3584 2469 3576 \nQ 2541 3569 2628 3553 \nL 2631 2963 \nz\n\" transform=\"scale(0.015625)\"/>\n       <path id=\"DejaVuSans-61\" d=\"M 2194 1759 \nQ 1497 1759 1228 1600 \nQ 959 1441 959 1056 \nQ 959 750 1161 570 \nQ 1363 391 1709 391 \nQ 2188 391 2477 730 \nQ 2766 1069 2766 1631 \nL 2766 1759 \nL 2194 1759 \nz\nM 3341 1997 \nL 3341 0 \nL 2766 0 \nL 2766 531 \nQ 2569 213 2275 61 \nQ 1981 -91 1556 -91 \nQ 1019 -91 701 211 \nQ 384 513 384 1019 \nQ 384 1609 779 1909 \nQ 1175 2209 1959 2209 \nL 2766 2209 \nL 2766 2266 \nQ 2766 2663 2505 2880 \nQ 2244 3097 1772 3097 \nQ 1472 3097 1187 3025 \nQ 903 2953 641 2809 \nL 641 3341 \nQ 956 3463 1253 3523 \nQ 1550 3584 1831 3584 \nQ 2591 3584 2966 3190 \nQ 3341 2797 3341 1997 \nz\n\" transform=\"scale(0.015625)\"/>\n       <path id=\"DejaVuSans-69\" d=\"M 603 3500 \nL 1178 3500 \nL 1178 0 \nL 603 0 \nL 603 3500 \nz\nM 603 4863 \nL 1178 4863 \nL 1178 4134 \nL 603 4134 \nL 603 4863 \nz\n\" transform=\"scale(0.015625)\"/>\n       <path id=\"DejaVuSans-6e\" d=\"M 3513 2113 \nL 3513 0 \nL 2938 0 \nL 2938 2094 \nQ 2938 2591 2744 2837 \nQ 2550 3084 2163 3084 \nQ 1697 3084 1428 2787 \nQ 1159 2491 1159 1978 \nL 1159 0 \nL 581 0 \nL 581 3500 \nL 1159 3500 \nL 1159 2956 \nQ 1366 3272 1645 3428 \nQ 1925 3584 2291 3584 \nQ 2894 3584 3203 3211 \nQ 3513 2838 3513 2113 \nz\n\" transform=\"scale(0.015625)\"/>\n       <path id=\"DejaVuSans-20\" transform=\"scale(0.015625)\"/>\n       <path id=\"DejaVuSans-6c\" d=\"M 603 4863 \nL 1178 4863 \nL 1178 0 \nL 603 0 \nL 603 4863 \nz\n\" transform=\"scale(0.015625)\"/>\n       <path id=\"DejaVuSans-73\" d=\"M 2834 3397 \nL 2834 2853 \nQ 2591 2978 2328 3040 \nQ 2066 3103 1784 3103 \nQ 1356 3103 1142 2972 \nQ 928 2841 928 2578 \nQ 928 2378 1081 2264 \nQ 1234 2150 1697 2047 \nL 1894 2003 \nQ 2506 1872 2764 1633 \nQ 3022 1394 3022 966 \nQ 3022 478 2636 193 \nQ 2250 -91 1575 -91 \nQ 1294 -91 989 -36 \nQ 684 19 347 128 \nL 347 722 \nQ 666 556 975 473 \nQ 1284 391 1588 391 \nQ 1994 391 2212 530 \nQ 2431 669 2431 922 \nQ 2431 1156 2273 1281 \nQ 2116 1406 1581 1522 \nL 1381 1569 \nQ 847 1681 609 1914 \nQ 372 2147 372 2553 \nQ 372 3047 722 3315 \nQ 1072 3584 1716 3584 \nQ 2034 3584 2315 3537 \nQ 2597 3491 2834 3397 \nz\n\" transform=\"scale(0.015625)\"/>\n      </defs>\n      <use xlink:href=\"#DejaVuSans-74\"/>\n      <use xlink:href=\"#DejaVuSans-72\" x=\"39.208984\"/>\n      <use xlink:href=\"#DejaVuSans-61\" x=\"80.322266\"/>\n      <use xlink:href=\"#DejaVuSans-69\" x=\"141.601562\"/>\n      <use xlink:href=\"#DejaVuSans-6e\" x=\"169.384766\"/>\n      <use xlink:href=\"#DejaVuSans-20\" x=\"232.763672\"/>\n      <use xlink:href=\"#DejaVuSans-6c\" x=\"264.550781\"/>\n      <use xlink:href=\"#DejaVuSans-6f\" x=\"292.333984\"/>\n      <use xlink:href=\"#DejaVuSans-73\" x=\"353.515625\"/>\n      <use xlink:href=\"#DejaVuSans-73\" x=\"405.615234\"/>\n     </g>\n    </g>\n    <g id=\"line2d_26\">\n     <path d=\"M 138.779688 34.976562 \nL 148.779688 34.976562 \nL 158.779688 34.976562 \n\" style=\"fill: none; stroke-dasharray: 5.55,2.4; stroke-dashoffset: 0; stroke: #bf00bf; stroke-width: 1.5\"/>\n    </g>\n    <g id=\"text_14\">\n     <!-- valid loss -->\n     <g transform=\"translate(166.779688 38.476562)scale(0.1 -0.1)\">\n      <defs>\n       <path id=\"DejaVuSans-76\" d=\"M 191 3500 \nL 800 3500 \nL 1894 563 \nL 2988 3500 \nL 3597 3500 \nL 2284 0 \nL 1503 0 \nL 191 3500 \nz\n\" transform=\"scale(0.015625)\"/>\n       <path id=\"DejaVuSans-64\" d=\"M 2906 2969 \nL 2906 4863 \nL 3481 4863 \nL 3481 0 \nL 2906 0 \nL 2906 525 \nQ 2725 213 2448 61 \nQ 2172 -91 1784 -91 \nQ 1150 -91 751 415 \nQ 353 922 353 1747 \nQ 353 2572 751 3078 \nQ 1150 3584 1784 3584 \nQ 2172 3584 2448 3432 \nQ 2725 3281 2906 2969 \nz\nM 947 1747 \nQ 947 1113 1208 752 \nQ 1469 391 1925 391 \nQ 2381 391 2643 752 \nQ 2906 1113 2906 1747 \nQ 2906 2381 2643 2742 \nQ 2381 3103 1925 3103 \nQ 1469 3103 1208 2742 \nQ 947 2381 947 1747 \nz\n\" transform=\"scale(0.015625)\"/>\n      </defs>\n      <use xlink:href=\"#DejaVuSans-76\"/>\n      <use xlink:href=\"#DejaVuSans-61\" x=\"59.179688\"/>\n      <use xlink:href=\"#DejaVuSans-6c\" x=\"120.458984\"/>\n      <use xlink:href=\"#DejaVuSans-69\" x=\"148.242188\"/>\n      <use xlink:href=\"#DejaVuSans-64\" x=\"176.025391\"/>\n      <use xlink:href=\"#DejaVuSans-20\" x=\"239.501953\"/>\n      <use xlink:href=\"#DejaVuSans-6c\" x=\"271.289062\"/>\n      <use xlink:href=\"#DejaVuSans-6f\" x=\"299.072266\"/>\n      <use xlink:href=\"#DejaVuSans-73\" x=\"360.253906\"/>\n      <use xlink:href=\"#DejaVuSans-73\" x=\"412.353516\"/>\n     </g>\n    </g>\n   </g>\n  </g>\n </g>\n <defs>\n  <clipPath id=\"p5803415b39\">\n   <rect x=\"26.925\" y=\"7.2\" width=\"195.3\" height=\"135.9\"/>\n  </clipPath>\n </defs>\n</svg>\n",
            "text/plain": [
              "<Figure size 252x180 with 1 Axes>"
            ]
          },
          "metadata": {
            "needs_background": "light"
          },
          "output_type": "display_data"
        }
      ],
      "source": [
        "model = Classifier(240, 1, drop=.5)\n",
        "\n",
        "# try linear model\n",
        "# model = nn.Sequential(nn.Linear(240, 1))\n",
        "\n",
        "model = train(model, train_iter, valid_iter, num_epochs,\n",
        "              lr, wd, devices, lr_period, lr_decay)\n"
      ]
    },
    {
      "cell_type": "code",
      "execution_count": 365,
      "id": "38d78140",
      "metadata": {
        "id": "38d78140"
      },
      "outputs": [],
      "source": [
        "# Save model\n",
        "torch.save(model, f'./models/mlp_model.pt')\n"
      ]
    },
    {
      "cell_type": "code",
      "execution_count": 349,
      "id": "fc7788c6",
      "metadata": {
        "id": "fc7788c6"
      },
      "outputs": [],
      "source": [
        "# Load model\n",
        "model = torch.load(f'./models/mlp_model.pt')\n"
      ]
    },
    {
      "cell_type": "code",
      "execution_count": 366,
      "id": "a5d7277d",
      "metadata": {
        "colab": {
          "base_uri": "https://localhost:8080/"
        },
        "id": "a5d7277d",
        "outputId": "ab89fa5c-8707-45d2-9c09-ef384ca0e8cb"
      },
      "outputs": [
        {
          "name": "stdout",
          "output_type": "stream",
          "text": [
            "R^2 accuracy of the model on the 19702 train examples: -0.00\n"
          ]
        }
      ],
      "source": [
        "# Get model's train accuracy\n",
        "with torch.no_grad():\n",
        "    # correct = 0\n",
        "    total = 0\n",
        "    r2 = R2Score().cuda()\n",
        "    for features, labels in train_iter:\n",
        "        features, labels = features.cuda(), labels.cuda()\n",
        "        outputs = model(features)\n",
        "        \n",
        "        # classification\n",
        "        # _, predicted = torch.max(outputs.data, 1)\n",
        "        total += labels.size(0)\n",
        "        # correct += (predicted == labels).sum().item()\n",
        "\n",
        "        # regression\n",
        "        r2.update(outputs, labels)\n",
        "\n",
        "    print(\n",
        "        f'R^2 accuracy of the model on the {total} train examples: {r2.compute():.2f}')\n"
      ]
    },
    {
      "cell_type": "code",
      "execution_count": 367,
      "id": "a6803269",
      "metadata": {
        "colab": {
          "base_uri": "https://localhost:8080/"
        },
        "id": "a6803269",
        "outputId": "92a38e3c-29fc-4bf4-a392-8b3be221b36d"
      },
      "outputs": [
        {
          "name": "stdout",
          "output_type": "stream",
          "text": [
            "R^2 accuracy of the model on the 2832 test examples: -0.12\n"
          ]
        }
      ],
      "source": [
        "# Get model's train accuracy\n",
        "with torch.no_grad():\n",
        "    # correct = 0\n",
        "    total = 0\n",
        "    r2 = R2Score().cuda()\n",
        "    for features, labels in test_iter:\n",
        "        features, labels = features.cuda(), labels.cuda()\n",
        "        outputs = model(features)\n",
        "\n",
        "        # classification\n",
        "        # _, predicted = torch.max(outputs.data, 1)\n",
        "        total += labels.size(0)\n",
        "        # correct += (predicted == labels).sum().item()\n",
        "\n",
        "        # regression\n",
        "        r2.update(outputs, labels)\n",
        "\n",
        "    print(\n",
        "        f'R^2 accuracy of the model on the {total} test examples: {r2.compute():.2f}')\n"
      ]
    }
  ],
  "metadata": {
    "accelerator": "GPU",
    "colab": {
      "provenance": []
    },
    "gpuClass": "standard",
    "kernelspec": {
      "display_name": "Python 3.9.2 64-bit",
      "language": "python",
      "name": "python3"
    },
    "language_info": {
      "codemirror_mode": {
        "name": "ipython",
        "version": 3
      },
      "file_extension": ".py",
      "mimetype": "text/x-python",
      "name": "python",
      "nbconvert_exporter": "python",
      "pygments_lexer": "ipython3",
      "version": "3.9.2"
    },
    "vscode": {
      "interpreter": {
        "hash": "0dcd1d2511816899a74ba735f0586ad2a5252297c95097d38969d839b5b7443a"
      }
    }
  },
  "nbformat": 4,
  "nbformat_minor": 5
}
